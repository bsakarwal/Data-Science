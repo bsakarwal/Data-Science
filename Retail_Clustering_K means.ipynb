{
 "cells": [
  {
   "cell_type": "code",
   "execution_count": 207,
   "id": "80cec743",
   "metadata": {},
   "outputs": [],
   "source": [
    "import pandas as pd\n",
    "import numpy as np\n",
    "import matplotlib.pyplot as plt\n",
    "%matplotlib inline"
   ]
  },
  {
   "cell_type": "code",
   "execution_count": 61,
   "id": "8d3e4bc3",
   "metadata": {},
   "outputs": [],
   "source": [
    "retail=pd.read_csv('C:/Users/bharat.sakarwal/Downloads/Upgrad_new/Online_Retail.csv',encoding='iso-8859-1',header=0)"
   ]
  },
  {
   "cell_type": "code",
   "execution_count": 62,
   "id": "31c85a4b",
   "metadata": {},
   "outputs": [
    {
     "data": {
      "text/html": [
       "<div>\n",
       "<style scoped>\n",
       "    .dataframe tbody tr th:only-of-type {\n",
       "        vertical-align: middle;\n",
       "    }\n",
       "\n",
       "    .dataframe tbody tr th {\n",
       "        vertical-align: top;\n",
       "    }\n",
       "\n",
       "    .dataframe thead th {\n",
       "        text-align: right;\n",
       "    }\n",
       "</style>\n",
       "<table border=\"1\" class=\"dataframe\">\n",
       "  <thead>\n",
       "    <tr style=\"text-align: right;\">\n",
       "      <th></th>\n",
       "      <th>InvoiceNo</th>\n",
       "      <th>StockCode</th>\n",
       "      <th>Description</th>\n",
       "      <th>Quantity</th>\n",
       "      <th>InvoiceDate</th>\n",
       "      <th>UnitPrice</th>\n",
       "      <th>CustomerID</th>\n",
       "      <th>Country</th>\n",
       "    </tr>\n",
       "  </thead>\n",
       "  <tbody>\n",
       "    <tr>\n",
       "      <th>0</th>\n",
       "      <td>536365</td>\n",
       "      <td>85123A</td>\n",
       "      <td>WHITE HANGING HEART T-LIGHT HOLDER</td>\n",
       "      <td>6</td>\n",
       "      <td>1/12/2010 8:26</td>\n",
       "      <td>2.55</td>\n",
       "      <td>17850.0</td>\n",
       "      <td>United Kingdom</td>\n",
       "    </tr>\n",
       "    <tr>\n",
       "      <th>1</th>\n",
       "      <td>536365</td>\n",
       "      <td>71053</td>\n",
       "      <td>WHITE METAL LANTERN</td>\n",
       "      <td>6</td>\n",
       "      <td>1/12/2010 8:26</td>\n",
       "      <td>3.39</td>\n",
       "      <td>17850.0</td>\n",
       "      <td>United Kingdom</td>\n",
       "    </tr>\n",
       "    <tr>\n",
       "      <th>2</th>\n",
       "      <td>536365</td>\n",
       "      <td>84406B</td>\n",
       "      <td>CREAM CUPID HEARTS COAT HANGER</td>\n",
       "      <td>8</td>\n",
       "      <td>1/12/2010 8:26</td>\n",
       "      <td>2.75</td>\n",
       "      <td>17850.0</td>\n",
       "      <td>United Kingdom</td>\n",
       "    </tr>\n",
       "    <tr>\n",
       "      <th>3</th>\n",
       "      <td>536365</td>\n",
       "      <td>84029G</td>\n",
       "      <td>KNITTED UNION FLAG HOT WATER BOTTLE</td>\n",
       "      <td>6</td>\n",
       "      <td>1/12/2010 8:26</td>\n",
       "      <td>3.39</td>\n",
       "      <td>17850.0</td>\n",
       "      <td>United Kingdom</td>\n",
       "    </tr>\n",
       "    <tr>\n",
       "      <th>4</th>\n",
       "      <td>536365</td>\n",
       "      <td>84029E</td>\n",
       "      <td>RED WOOLLY HOTTIE WHITE HEART.</td>\n",
       "      <td>6</td>\n",
       "      <td>1/12/2010 8:26</td>\n",
       "      <td>3.39</td>\n",
       "      <td>17850.0</td>\n",
       "      <td>United Kingdom</td>\n",
       "    </tr>\n",
       "  </tbody>\n",
       "</table>\n",
       "</div>"
      ],
      "text/plain": [
       "  InvoiceNo StockCode                          Description  Quantity  \\\n",
       "0    536365    85123A   WHITE HANGING HEART T-LIGHT HOLDER         6   \n",
       "1    536365     71053                  WHITE METAL LANTERN         6   \n",
       "2    536365    84406B       CREAM CUPID HEARTS COAT HANGER         8   \n",
       "3    536365    84029G  KNITTED UNION FLAG HOT WATER BOTTLE         6   \n",
       "4    536365    84029E       RED WOOLLY HOTTIE WHITE HEART.         6   \n",
       "\n",
       "      InvoiceDate  UnitPrice  CustomerID         Country  \n",
       "0  1/12/2010 8:26       2.55     17850.0  United Kingdom  \n",
       "1  1/12/2010 8:26       3.39     17850.0  United Kingdom  \n",
       "2  1/12/2010 8:26       2.75     17850.0  United Kingdom  \n",
       "3  1/12/2010 8:26       3.39     17850.0  United Kingdom  \n",
       "4  1/12/2010 8:26       3.39     17850.0  United Kingdom  "
      ]
     },
     "execution_count": 62,
     "metadata": {},
     "output_type": "execute_result"
    }
   ],
   "source": [
    "retail.head()"
   ]
  },
  {
   "cell_type": "markdown",
   "id": "7f417d85",
   "metadata": {},
   "source": [
    "### Steps required broadly:\n",
    "1. Read and visualize the data.\n",
    "2. Clean the data.\n",
    "3. prepare the data for modelling.\n",
    "4. Modelling\n",
    "5. Analysis and Business Recommendation"
   ]
  },
  {
   "cell_type": "code",
   "execution_count": 63,
   "id": "fe9fcc48",
   "metadata": {},
   "outputs": [
    {
     "name": "stdout",
     "output_type": "stream",
     "text": [
      "<class 'pandas.core.frame.DataFrame'>\n",
      "RangeIndex: 541909 entries, 0 to 541908\n",
      "Data columns (total 8 columns):\n",
      " #   Column       Non-Null Count   Dtype  \n",
      "---  ------       --------------   -----  \n",
      " 0   InvoiceNo    541909 non-null  object \n",
      " 1   StockCode    541909 non-null  object \n",
      " 2   Description  540455 non-null  object \n",
      " 3   Quantity     541909 non-null  int64  \n",
      " 4   InvoiceDate  541909 non-null  object \n",
      " 5   UnitPrice    541909 non-null  float64\n",
      " 6   CustomerID   406829 non-null  float64\n",
      " 7   Country      541909 non-null  object \n",
      "dtypes: float64(2), int64(1), object(5)\n",
      "memory usage: 33.1+ MB\n"
     ]
    }
   ],
   "source": [
    "retail.info()"
   ]
  },
  {
   "cell_type": "code",
   "execution_count": 64,
   "id": "cd44c237",
   "metadata": {},
   "outputs": [
    {
     "data": {
      "text/plain": [
       "573585     1114\n",
       "581219      749\n",
       "581492      731\n",
       "580729      721\n",
       "558475      705\n",
       "           ... \n",
       "554023        1\n",
       "554022        1\n",
       "554021        1\n",
       "554020        1\n",
       "C558901       1\n",
       "Name: InvoiceNo, Length: 25900, dtype: int64"
      ]
     },
     "execution_count": 64,
     "metadata": {},
     "output_type": "execute_result"
    }
   ],
   "source": [
    "retail['InvoiceNo'].value_counts()"
   ]
  },
  {
   "cell_type": "code",
   "execution_count": 65,
   "id": "72dd640b",
   "metadata": {},
   "outputs": [
    {
     "data": {
      "text/plain": [
       "541909"
      ]
     },
     "execution_count": 65,
     "metadata": {},
     "output_type": "execute_result"
    }
   ],
   "source": [
    "len(retail)"
   ]
  },
  {
   "cell_type": "code",
   "execution_count": 26,
   "id": "3ba128f9",
   "metadata": {},
   "outputs": [
    {
     "data": {
      "text/plain": [
       "InvoiceNo           0\n",
       "StockCode           0\n",
       "Description      1454\n",
       "Quantity            0\n",
       "InvoiceDate         0\n",
       "UnitPrice           0\n",
       "CustomerID     135080\n",
       "Country             0\n",
       "dtype: int64"
      ]
     },
     "execution_count": 26,
     "metadata": {},
     "output_type": "execute_result"
    }
   ],
   "source": [
    "retail.isnull().sum()"
   ]
  },
  {
   "cell_type": "code",
   "execution_count": 21,
   "id": "6bbb5a05",
   "metadata": {},
   "outputs": [
    {
     "data": {
      "text/plain": [
       "InvoiceNo       0.00\n",
       "StockCode       0.00\n",
       "Description     0.27\n",
       "Quantity        0.00\n",
       "InvoiceDate     0.00\n",
       "UnitPrice       0.00\n",
       "CustomerID     24.93\n",
       "Country         0.00\n",
       "dtype: float64"
      ]
     },
     "execution_count": 21,
     "metadata": {},
     "output_type": "execute_result"
    }
   ],
   "source": [
    "round((100*(retail.isnull().sum())/len(retail)),2)"
   ]
  },
  {
   "cell_type": "code",
   "execution_count": 66,
   "id": "96b34c35",
   "metadata": {},
   "outputs": [],
   "source": [
    "retail.dropna(subset=['CustomerID'],inplace=True)"
   ]
  },
  {
   "cell_type": "code",
   "execution_count": 67,
   "id": "1891c88d",
   "metadata": {},
   "outputs": [
    {
     "data": {
      "text/html": [
       "<div>\n",
       "<style scoped>\n",
       "    .dataframe tbody tr th:only-of-type {\n",
       "        vertical-align: middle;\n",
       "    }\n",
       "\n",
       "    .dataframe tbody tr th {\n",
       "        vertical-align: top;\n",
       "    }\n",
       "\n",
       "    .dataframe thead th {\n",
       "        text-align: right;\n",
       "    }\n",
       "</style>\n",
       "<table border=\"1\" class=\"dataframe\">\n",
       "  <thead>\n",
       "    <tr style=\"text-align: right;\">\n",
       "      <th></th>\n",
       "      <th>InvoiceNo</th>\n",
       "      <th>StockCode</th>\n",
       "      <th>Description</th>\n",
       "      <th>Quantity</th>\n",
       "      <th>InvoiceDate</th>\n",
       "      <th>UnitPrice</th>\n",
       "      <th>CustomerID</th>\n",
       "      <th>Country</th>\n",
       "    </tr>\n",
       "  </thead>\n",
       "  <tbody>\n",
       "    <tr>\n",
       "      <th>0</th>\n",
       "      <td>536365</td>\n",
       "      <td>85123A</td>\n",
       "      <td>WHITE HANGING HEART T-LIGHT HOLDER</td>\n",
       "      <td>6</td>\n",
       "      <td>1/12/2010 8:26</td>\n",
       "      <td>2.55</td>\n",
       "      <td>17850.0</td>\n",
       "      <td>United Kingdom</td>\n",
       "    </tr>\n",
       "    <tr>\n",
       "      <th>1</th>\n",
       "      <td>536365</td>\n",
       "      <td>71053</td>\n",
       "      <td>WHITE METAL LANTERN</td>\n",
       "      <td>6</td>\n",
       "      <td>1/12/2010 8:26</td>\n",
       "      <td>3.39</td>\n",
       "      <td>17850.0</td>\n",
       "      <td>United Kingdom</td>\n",
       "    </tr>\n",
       "    <tr>\n",
       "      <th>2</th>\n",
       "      <td>536365</td>\n",
       "      <td>84406B</td>\n",
       "      <td>CREAM CUPID HEARTS COAT HANGER</td>\n",
       "      <td>8</td>\n",
       "      <td>1/12/2010 8:26</td>\n",
       "      <td>2.75</td>\n",
       "      <td>17850.0</td>\n",
       "      <td>United Kingdom</td>\n",
       "    </tr>\n",
       "    <tr>\n",
       "      <th>3</th>\n",
       "      <td>536365</td>\n",
       "      <td>84029G</td>\n",
       "      <td>KNITTED UNION FLAG HOT WATER BOTTLE</td>\n",
       "      <td>6</td>\n",
       "      <td>1/12/2010 8:26</td>\n",
       "      <td>3.39</td>\n",
       "      <td>17850.0</td>\n",
       "      <td>United Kingdom</td>\n",
       "    </tr>\n",
       "    <tr>\n",
       "      <th>4</th>\n",
       "      <td>536365</td>\n",
       "      <td>84029E</td>\n",
       "      <td>RED WOOLLY HOTTIE WHITE HEART.</td>\n",
       "      <td>6</td>\n",
       "      <td>1/12/2010 8:26</td>\n",
       "      <td>3.39</td>\n",
       "      <td>17850.0</td>\n",
       "      <td>United Kingdom</td>\n",
       "    </tr>\n",
       "    <tr>\n",
       "      <th>...</th>\n",
       "      <td>...</td>\n",
       "      <td>...</td>\n",
       "      <td>...</td>\n",
       "      <td>...</td>\n",
       "      <td>...</td>\n",
       "      <td>...</td>\n",
       "      <td>...</td>\n",
       "      <td>...</td>\n",
       "    </tr>\n",
       "    <tr>\n",
       "      <th>541904</th>\n",
       "      <td>581587</td>\n",
       "      <td>22613</td>\n",
       "      <td>PACK OF 20 SPACEBOY NAPKINS</td>\n",
       "      <td>12</td>\n",
       "      <td>9/12/2011 12:50</td>\n",
       "      <td>0.85</td>\n",
       "      <td>12680.0</td>\n",
       "      <td>France</td>\n",
       "    </tr>\n",
       "    <tr>\n",
       "      <th>541905</th>\n",
       "      <td>581587</td>\n",
       "      <td>22899</td>\n",
       "      <td>CHILDREN'S APRON DOLLY GIRL</td>\n",
       "      <td>6</td>\n",
       "      <td>9/12/2011 12:50</td>\n",
       "      <td>2.10</td>\n",
       "      <td>12680.0</td>\n",
       "      <td>France</td>\n",
       "    </tr>\n",
       "    <tr>\n",
       "      <th>541906</th>\n",
       "      <td>581587</td>\n",
       "      <td>23254</td>\n",
       "      <td>CHILDRENS CUTLERY DOLLY GIRL</td>\n",
       "      <td>4</td>\n",
       "      <td>9/12/2011 12:50</td>\n",
       "      <td>4.15</td>\n",
       "      <td>12680.0</td>\n",
       "      <td>France</td>\n",
       "    </tr>\n",
       "    <tr>\n",
       "      <th>541907</th>\n",
       "      <td>581587</td>\n",
       "      <td>23255</td>\n",
       "      <td>CHILDRENS CUTLERY CIRCUS PARADE</td>\n",
       "      <td>4</td>\n",
       "      <td>9/12/2011 12:50</td>\n",
       "      <td>4.15</td>\n",
       "      <td>12680.0</td>\n",
       "      <td>France</td>\n",
       "    </tr>\n",
       "    <tr>\n",
       "      <th>541908</th>\n",
       "      <td>581587</td>\n",
       "      <td>22138</td>\n",
       "      <td>BAKING SET 9 PIECE RETROSPOT</td>\n",
       "      <td>3</td>\n",
       "      <td>9/12/2011 12:50</td>\n",
       "      <td>4.95</td>\n",
       "      <td>12680.0</td>\n",
       "      <td>France</td>\n",
       "    </tr>\n",
       "  </tbody>\n",
       "</table>\n",
       "<p>406829 rows × 8 columns</p>\n",
       "</div>"
      ],
      "text/plain": [
       "       InvoiceNo StockCode                          Description  Quantity  \\\n",
       "0         536365    85123A   WHITE HANGING HEART T-LIGHT HOLDER         6   \n",
       "1         536365     71053                  WHITE METAL LANTERN         6   \n",
       "2         536365    84406B       CREAM CUPID HEARTS COAT HANGER         8   \n",
       "3         536365    84029G  KNITTED UNION FLAG HOT WATER BOTTLE         6   \n",
       "4         536365    84029E       RED WOOLLY HOTTIE WHITE HEART.         6   \n",
       "...          ...       ...                                  ...       ...   \n",
       "541904    581587     22613          PACK OF 20 SPACEBOY NAPKINS        12   \n",
       "541905    581587     22899         CHILDREN'S APRON DOLLY GIRL          6   \n",
       "541906    581587     23254        CHILDRENS CUTLERY DOLLY GIRL          4   \n",
       "541907    581587     23255      CHILDRENS CUTLERY CIRCUS PARADE         4   \n",
       "541908    581587     22138        BAKING SET 9 PIECE RETROSPOT          3   \n",
       "\n",
       "            InvoiceDate  UnitPrice  CustomerID         Country  \n",
       "0        1/12/2010 8:26       2.55     17850.0  United Kingdom  \n",
       "1        1/12/2010 8:26       3.39     17850.0  United Kingdom  \n",
       "2        1/12/2010 8:26       2.75     17850.0  United Kingdom  \n",
       "3        1/12/2010 8:26       3.39     17850.0  United Kingdom  \n",
       "4        1/12/2010 8:26       3.39     17850.0  United Kingdom  \n",
       "...                 ...        ...         ...             ...  \n",
       "541904  9/12/2011 12:50       0.85     12680.0          France  \n",
       "541905  9/12/2011 12:50       2.10     12680.0          France  \n",
       "541906  9/12/2011 12:50       4.15     12680.0          France  \n",
       "541907  9/12/2011 12:50       4.15     12680.0          France  \n",
       "541908  9/12/2011 12:50       4.95     12680.0          France  \n",
       "\n",
       "[406829 rows x 8 columns]"
      ]
     },
     "execution_count": 67,
     "metadata": {},
     "output_type": "execute_result"
    }
   ],
   "source": [
    "retail"
   ]
  },
  {
   "cell_type": "code",
   "execution_count": 68,
   "id": "f0c79c69",
   "metadata": {},
   "outputs": [
    {
     "data": {
      "text/plain": [
       "(406829, 8)"
      ]
     },
     "execution_count": 68,
     "metadata": {},
     "output_type": "execute_result"
    }
   ],
   "source": [
    "retail.shape"
   ]
  },
  {
   "cell_type": "code",
   "execution_count": 69,
   "id": "47fdb981",
   "metadata": {},
   "outputs": [
    {
     "data": {
      "text/plain": [
       "InvoiceNo      0\n",
       "StockCode      0\n",
       "Description    0\n",
       "Quantity       0\n",
       "InvoiceDate    0\n",
       "UnitPrice      0\n",
       "CustomerID     0\n",
       "Country        0\n",
       "dtype: int64"
      ]
     },
     "execution_count": 69,
     "metadata": {},
     "output_type": "execute_result"
    }
   ],
   "source": [
    "retail.isnull().sum()"
   ]
  },
  {
   "cell_type": "code",
   "execution_count": null,
   "id": "69d675c5",
   "metadata": {},
   "outputs": [],
   "source": []
  },
  {
   "cell_type": "markdown",
   "id": "1e054f71",
   "metadata": {},
   "source": [
    "Prepare Data for Modelling\n",
    "R(Recency): Number of days since last purchase\n",
    "F(Frequency): Number of transactions\n",
    "M(Monetary): Total amount contributed"
   ]
  },
  {
   "cell_type": "code",
   "execution_count": 70,
   "id": "3eacbc02",
   "metadata": {},
   "outputs": [],
   "source": [
    "#new_retail['Total Amount']=(new_retail['Quantity'])*(new_retail['UnitPrice'])\n",
    "retail['amount'] = retail['Quantity']*retail['UnitPrice']"
   ]
  },
  {
   "cell_type": "code",
   "execution_count": 71,
   "id": "1062e2b9",
   "metadata": {},
   "outputs": [
    {
     "data": {
      "text/html": [
       "<div>\n",
       "<style scoped>\n",
       "    .dataframe tbody tr th:only-of-type {\n",
       "        vertical-align: middle;\n",
       "    }\n",
       "\n",
       "    .dataframe tbody tr th {\n",
       "        vertical-align: top;\n",
       "    }\n",
       "\n",
       "    .dataframe thead th {\n",
       "        text-align: right;\n",
       "    }\n",
       "</style>\n",
       "<table border=\"1\" class=\"dataframe\">\n",
       "  <thead>\n",
       "    <tr style=\"text-align: right;\">\n",
       "      <th></th>\n",
       "      <th>InvoiceNo</th>\n",
       "      <th>StockCode</th>\n",
       "      <th>Description</th>\n",
       "      <th>Quantity</th>\n",
       "      <th>InvoiceDate</th>\n",
       "      <th>UnitPrice</th>\n",
       "      <th>CustomerID</th>\n",
       "      <th>Country</th>\n",
       "      <th>amount</th>\n",
       "    </tr>\n",
       "  </thead>\n",
       "  <tbody>\n",
       "    <tr>\n",
       "      <th>0</th>\n",
       "      <td>536365</td>\n",
       "      <td>85123A</td>\n",
       "      <td>WHITE HANGING HEART T-LIGHT HOLDER</td>\n",
       "      <td>6</td>\n",
       "      <td>1/12/2010 8:26</td>\n",
       "      <td>2.55</td>\n",
       "      <td>17850.0</td>\n",
       "      <td>United Kingdom</td>\n",
       "      <td>15.30</td>\n",
       "    </tr>\n",
       "    <tr>\n",
       "      <th>1</th>\n",
       "      <td>536365</td>\n",
       "      <td>71053</td>\n",
       "      <td>WHITE METAL LANTERN</td>\n",
       "      <td>6</td>\n",
       "      <td>1/12/2010 8:26</td>\n",
       "      <td>3.39</td>\n",
       "      <td>17850.0</td>\n",
       "      <td>United Kingdom</td>\n",
       "      <td>20.34</td>\n",
       "    </tr>\n",
       "    <tr>\n",
       "      <th>2</th>\n",
       "      <td>536365</td>\n",
       "      <td>84406B</td>\n",
       "      <td>CREAM CUPID HEARTS COAT HANGER</td>\n",
       "      <td>8</td>\n",
       "      <td>1/12/2010 8:26</td>\n",
       "      <td>2.75</td>\n",
       "      <td>17850.0</td>\n",
       "      <td>United Kingdom</td>\n",
       "      <td>22.00</td>\n",
       "    </tr>\n",
       "    <tr>\n",
       "      <th>3</th>\n",
       "      <td>536365</td>\n",
       "      <td>84029G</td>\n",
       "      <td>KNITTED UNION FLAG HOT WATER BOTTLE</td>\n",
       "      <td>6</td>\n",
       "      <td>1/12/2010 8:26</td>\n",
       "      <td>3.39</td>\n",
       "      <td>17850.0</td>\n",
       "      <td>United Kingdom</td>\n",
       "      <td>20.34</td>\n",
       "    </tr>\n",
       "    <tr>\n",
       "      <th>4</th>\n",
       "      <td>536365</td>\n",
       "      <td>84029E</td>\n",
       "      <td>RED WOOLLY HOTTIE WHITE HEART.</td>\n",
       "      <td>6</td>\n",
       "      <td>1/12/2010 8:26</td>\n",
       "      <td>3.39</td>\n",
       "      <td>17850.0</td>\n",
       "      <td>United Kingdom</td>\n",
       "      <td>20.34</td>\n",
       "    </tr>\n",
       "  </tbody>\n",
       "</table>\n",
       "</div>"
      ],
      "text/plain": [
       "  InvoiceNo StockCode                          Description  Quantity  \\\n",
       "0    536365    85123A   WHITE HANGING HEART T-LIGHT HOLDER         6   \n",
       "1    536365     71053                  WHITE METAL LANTERN         6   \n",
       "2    536365    84406B       CREAM CUPID HEARTS COAT HANGER         8   \n",
       "3    536365    84029G  KNITTED UNION FLAG HOT WATER BOTTLE         6   \n",
       "4    536365    84029E       RED WOOLLY HOTTIE WHITE HEART.         6   \n",
       "\n",
       "      InvoiceDate  UnitPrice  CustomerID         Country  amount  \n",
       "0  1/12/2010 8:26       2.55     17850.0  United Kingdom   15.30  \n",
       "1  1/12/2010 8:26       3.39     17850.0  United Kingdom   20.34  \n",
       "2  1/12/2010 8:26       2.75     17850.0  United Kingdom   22.00  \n",
       "3  1/12/2010 8:26       3.39     17850.0  United Kingdom   20.34  \n",
       "4  1/12/2010 8:26       3.39     17850.0  United Kingdom   20.34  "
      ]
     },
     "execution_count": 71,
     "metadata": {},
     "output_type": "execute_result"
    }
   ],
   "source": [
    "retail.head()"
   ]
  },
  {
   "cell_type": "code",
   "execution_count": 74,
   "id": "fa122a88",
   "metadata": {},
   "outputs": [],
   "source": [
    "g=retail.groupby('Country')"
   ]
  },
  {
   "cell_type": "code",
   "execution_count": null,
   "id": "34eb5909",
   "metadata": {},
   "outputs": [],
   "source": []
  },
  {
   "cell_type": "code",
   "execution_count": 102,
   "id": "592a6bd1",
   "metadata": {
    "scrolled": true
   },
   "outputs": [
    {
     "data": {
      "text/html": [
       "<div>\n",
       "<style scoped>\n",
       "    .dataframe tbody tr th:only-of-type {\n",
       "        vertical-align: middle;\n",
       "    }\n",
       "\n",
       "    .dataframe tbody tr th {\n",
       "        vertical-align: top;\n",
       "    }\n",
       "\n",
       "    .dataframe thead th {\n",
       "        text-align: right;\n",
       "    }\n",
       "</style>\n",
       "<table border=\"1\" class=\"dataframe\">\n",
       "  <thead>\n",
       "    <tr style=\"text-align: right;\">\n",
       "      <th></th>\n",
       "      <th>InvoiceNo</th>\n",
       "      <th>StockCode</th>\n",
       "      <th>Description</th>\n",
       "      <th>Quantity</th>\n",
       "      <th>InvoiceDate</th>\n",
       "      <th>UnitPrice</th>\n",
       "      <th>CustomerID</th>\n",
       "      <th>amount</th>\n",
       "    </tr>\n",
       "    <tr>\n",
       "      <th>Country</th>\n",
       "      <th></th>\n",
       "      <th></th>\n",
       "      <th></th>\n",
       "      <th></th>\n",
       "      <th></th>\n",
       "      <th></th>\n",
       "      <th></th>\n",
       "      <th></th>\n",
       "    </tr>\n",
       "  </thead>\n",
       "  <tbody>\n",
       "    <tr>\n",
       "      <th>United Kingdom</th>\n",
       "      <td>C581569</td>\n",
       "      <td>POST</td>\n",
       "      <td>ZINC WIRE SWEETHEART LETTER TRAY</td>\n",
       "      <td>80995</td>\n",
       "      <td>9/9/2011 9:52</td>\n",
       "      <td>38970.00</td>\n",
       "      <td>18287.0</td>\n",
       "      <td>168469.60</td>\n",
       "    </tr>\n",
       "    <tr>\n",
       "      <th>Netherlands</th>\n",
       "      <td>C577481</td>\n",
       "      <td>POST</td>\n",
       "      <td>ZINC WILLIE WINKIE  CANDLE STICK</td>\n",
       "      <td>2400</td>\n",
       "      <td>9/9/2011 12:24</td>\n",
       "      <td>206.40</td>\n",
       "      <td>14646.0</td>\n",
       "      <td>4992.00</td>\n",
       "    </tr>\n",
       "    <tr>\n",
       "      <th>France</th>\n",
       "      <td>C581316</td>\n",
       "      <td>POST</td>\n",
       "      <td>ZINC T-LIGHT HOLDER STARS SMALL</td>\n",
       "      <td>912</td>\n",
       "      <td>9/9/2011 8:48</td>\n",
       "      <td>4161.06</td>\n",
       "      <td>14277.0</td>\n",
       "      <td>4161.06</td>\n",
       "    </tr>\n",
       "    <tr>\n",
       "      <th>Singapore</th>\n",
       "      <td>C571750</td>\n",
       "      <td>M</td>\n",
       "      <td>ZINC FOLKART SLEIGH BELLS</td>\n",
       "      <td>288</td>\n",
       "      <td>5/4/2011 10:58</td>\n",
       "      <td>3949.32</td>\n",
       "      <td>12744.0</td>\n",
       "      <td>3949.32</td>\n",
       "    </tr>\n",
       "    <tr>\n",
       "      <th>Japan</th>\n",
       "      <td>C580832</td>\n",
       "      <td>M</td>\n",
       "      <td>WORLD WAR 2 GLIDERS ASSTD DESIGNS</td>\n",
       "      <td>2040</td>\n",
       "      <td>9/2/2011 11:21</td>\n",
       "      <td>45.57</td>\n",
       "      <td>12812.0</td>\n",
       "      <td>3794.40</td>\n",
       "    </tr>\n",
       "    <tr>\n",
       "      <th>EIRE</th>\n",
       "      <td>C580056</td>\n",
       "      <td>M</td>\n",
       "      <td>ZINC WIRE SWEETHEART LETTER TRAY</td>\n",
       "      <td>1440</td>\n",
       "      <td>9/9/2011 11:57</td>\n",
       "      <td>1687.17</td>\n",
       "      <td>14911.0</td>\n",
       "      <td>2365.20</td>\n",
       "    </tr>\n",
       "    <tr>\n",
       "      <th>Australia</th>\n",
       "      <td>C574344</td>\n",
       "      <td>POST</td>\n",
       "      <td>YELLOW GIANT GARDEN THERMOMETER</td>\n",
       "      <td>1152</td>\n",
       "      <td>9/3/2011 15:47</td>\n",
       "      <td>350.00</td>\n",
       "      <td>16321.0</td>\n",
       "      <td>1718.40</td>\n",
       "    </tr>\n",
       "    <tr>\n",
       "      <th>Spain</th>\n",
       "      <td>C581148</td>\n",
       "      <td>POST</td>\n",
       "      <td>ZINC T-LIGHT HOLDER STARS SMALL</td>\n",
       "      <td>360</td>\n",
       "      <td>9/6/2011 16:04</td>\n",
       "      <td>1715.85</td>\n",
       "      <td>17097.0</td>\n",
       "      <td>1350.00</td>\n",
       "    </tr>\n",
       "    <tr>\n",
       "      <th>Portugal</th>\n",
       "      <td>C581128</td>\n",
       "      <td>POST</td>\n",
       "      <td>ZINC WIRE KITCHEN ORGANISER</td>\n",
       "      <td>120</td>\n",
       "      <td>9/12/2010 10:55</td>\n",
       "      <td>1241.98</td>\n",
       "      <td>12811.0</td>\n",
       "      <td>1241.98</td>\n",
       "    </tr>\n",
       "    <tr>\n",
       "      <th>Sweden</th>\n",
       "      <td>C580702</td>\n",
       "      <td>POST</td>\n",
       "      <td>ZINC WILLIE WINKIE  CANDLE STICK</td>\n",
       "      <td>768</td>\n",
       "      <td>9/6/2011 12:20</td>\n",
       "      <td>40.00</td>\n",
       "      <td>17404.0</td>\n",
       "      <td>1188.00</td>\n",
       "    </tr>\n",
       "    <tr>\n",
       "      <th>Germany</th>\n",
       "      <td>C581409</td>\n",
       "      <td>POST</td>\n",
       "      <td>ZINC WILLIE WINKIE  CANDLE STICK</td>\n",
       "      <td>600</td>\n",
       "      <td>9/9/2011 10:32</td>\n",
       "      <td>599.50</td>\n",
       "      <td>14335.0</td>\n",
       "      <td>876.00</td>\n",
       "    </tr>\n",
       "    <tr>\n",
       "      <th>Norway</th>\n",
       "      <td>C565050</td>\n",
       "      <td>POST</td>\n",
       "      <td>ZINC WILLIE WINKIE  CANDLE STICK</td>\n",
       "      <td>240</td>\n",
       "      <td>9/9/2011 13:44</td>\n",
       "      <td>700.00</td>\n",
       "      <td>12752.0</td>\n",
       "      <td>700.00</td>\n",
       "    </tr>\n",
       "    <tr>\n",
       "      <th>Finland</th>\n",
       "      <td>C581071</td>\n",
       "      <td>POST</td>\n",
       "      <td>ZINC T-LIGHT HOLDER STARS SMALL</td>\n",
       "      <td>144</td>\n",
       "      <td>7/4/2011 9:28</td>\n",
       "      <td>275.60</td>\n",
       "      <td>12704.0</td>\n",
       "      <td>551.20</td>\n",
       "    </tr>\n",
       "    <tr>\n",
       "      <th>Canada</th>\n",
       "      <td>564428</td>\n",
       "      <td>POST</td>\n",
       "      <td>YELLOW COAT RACK PARIS FASHION</td>\n",
       "      <td>504</td>\n",
       "      <td>4/5/2011 10:47</td>\n",
       "      <td>550.94</td>\n",
       "      <td>17844.0</td>\n",
       "      <td>550.94</td>\n",
       "    </tr>\n",
       "    <tr>\n",
       "      <th>Malta</th>\n",
       "      <td>C579929</td>\n",
       "      <td>POST</td>\n",
       "      <td>WRAP CHRISTMAS VILLAGE</td>\n",
       "      <td>48</td>\n",
       "      <td>8/6/2011 8:31</td>\n",
       "      <td>65.00</td>\n",
       "      <td>17828.0</td>\n",
       "      <td>455.00</td>\n",
       "    </tr>\n",
       "    <tr>\n",
       "      <th>Denmark</th>\n",
       "      <td>C572187</td>\n",
       "      <td>POST</td>\n",
       "      <td>WRAP VINTAGE PETALS  DESIGN</td>\n",
       "      <td>256</td>\n",
       "      <td>9/8/2011 9:41</td>\n",
       "      <td>18.00</td>\n",
       "      <td>13919.0</td>\n",
       "      <td>428.40</td>\n",
       "    </tr>\n",
       "    <tr>\n",
       "      <th>Channel Islands</th>\n",
       "      <td>C581323</td>\n",
       "      <td>M</td>\n",
       "      <td>ZINC T-LIGHT HOLDER STARS SMALL</td>\n",
       "      <td>407</td>\n",
       "      <td>9/3/2011 11:53</td>\n",
       "      <td>293.00</td>\n",
       "      <td>14937.0</td>\n",
       "      <td>408.00</td>\n",
       "    </tr>\n",
       "    <tr>\n",
       "      <th>Austria</th>\n",
       "      <td>C556793</td>\n",
       "      <td>POST</td>\n",
       "      <td>ZINC WILLIE WINKIE  CANDLE STICK</td>\n",
       "      <td>288</td>\n",
       "      <td>8/8/2011 10:11</td>\n",
       "      <td>40.00</td>\n",
       "      <td>12865.0</td>\n",
       "      <td>360.00</td>\n",
       "    </tr>\n",
       "    <tr>\n",
       "      <th>Switzerland</th>\n",
       "      <td>C578122</td>\n",
       "      <td>POST</td>\n",
       "      <td>ZINC WILLIE WINKIE  CANDLE STICK</td>\n",
       "      <td>288</td>\n",
       "      <td>9/5/2011 10:06</td>\n",
       "      <td>40.00</td>\n",
       "      <td>13520.0</td>\n",
       "      <td>360.00</td>\n",
       "    </tr>\n",
       "    <tr>\n",
       "      <th>Israel</th>\n",
       "      <td>C539037</td>\n",
       "      <td>90099</td>\n",
       "      <td>YELLOW COAT RACK PARIS FASHION</td>\n",
       "      <td>100</td>\n",
       "      <td>4/10/2011 14:55</td>\n",
       "      <td>125.00</td>\n",
       "      <td>12688.0</td>\n",
       "      <td>350.40</td>\n",
       "    </tr>\n",
       "    <tr>\n",
       "      <th>Cyprus</th>\n",
       "      <td>C580165</td>\n",
       "      <td>POST</td>\n",
       "      <td>ZINC METAL HEART DECORATION</td>\n",
       "      <td>288</td>\n",
       "      <td>7/2/2011 14:51</td>\n",
       "      <td>320.69</td>\n",
       "      <td>13809.0</td>\n",
       "      <td>320.69</td>\n",
       "    </tr>\n",
       "    <tr>\n",
       "      <th>Italy</th>\n",
       "      <td>C579864</td>\n",
       "      <td>POST</td>\n",
       "      <td>ZINC FOLKART SLEIGH BELLS</td>\n",
       "      <td>200</td>\n",
       "      <td>9/6/2011 10:05</td>\n",
       "      <td>300.00</td>\n",
       "      <td>14912.0</td>\n",
       "      <td>300.00</td>\n",
       "    </tr>\n",
       "    <tr>\n",
       "      <th>Iceland</th>\n",
       "      <td>581180</td>\n",
       "      <td>85232D</td>\n",
       "      <td>WOODLAND DESIGN  COTTON TOTE BAG</td>\n",
       "      <td>240</td>\n",
       "      <td>9/6/2011 13:01</td>\n",
       "      <td>12.75</td>\n",
       "      <td>12347.0</td>\n",
       "      <td>249.60</td>\n",
       "    </tr>\n",
       "    <tr>\n",
       "      <th>Greece</th>\n",
       "      <td>C559681</td>\n",
       "      <td>POST</td>\n",
       "      <td>ZINC METAL HEART DECORATION</td>\n",
       "      <td>48</td>\n",
       "      <td>8/4/2011 10:32</td>\n",
       "      <td>50.00</td>\n",
       "      <td>17508.0</td>\n",
       "      <td>175.20</td>\n",
       "    </tr>\n",
       "    <tr>\n",
       "      <th>Brazil</th>\n",
       "      <td>550201</td>\n",
       "      <td>84971S</td>\n",
       "      <td>SPACEBOY LUNCH BOX</td>\n",
       "      <td>24</td>\n",
       "      <td>15-04-2011 10:25</td>\n",
       "      <td>10.95</td>\n",
       "      <td>12769.0</td>\n",
       "      <td>175.20</td>\n",
       "    </tr>\n",
       "    <tr>\n",
       "      <th>Belgium</th>\n",
       "      <td>C580168</td>\n",
       "      <td>POST</td>\n",
       "      <td>WRAP SUKI AND FRIENDS</td>\n",
       "      <td>272</td>\n",
       "      <td>9/9/2011 9:13</td>\n",
       "      <td>39.95</td>\n",
       "      <td>12876.0</td>\n",
       "      <td>165.00</td>\n",
       "    </tr>\n",
       "    <tr>\n",
       "      <th>Lebanon</th>\n",
       "      <td>542276</td>\n",
       "      <td>85150</td>\n",
       "      <td>WOODEN SKITTLES GARDEN SET</td>\n",
       "      <td>24</td>\n",
       "      <td>27-01-2011 10:19</td>\n",
       "      <td>14.95</td>\n",
       "      <td>12764.0</td>\n",
       "      <td>153.00</td>\n",
       "    </tr>\n",
       "    <tr>\n",
       "      <th>United Arab Emirates</th>\n",
       "      <td>567824</td>\n",
       "      <td>POST</td>\n",
       "      <td>WRAP PAISLEY PARK</td>\n",
       "      <td>72</td>\n",
       "      <td>22-09-2011 13:00</td>\n",
       "      <td>37.50</td>\n",
       "      <td>17829.0</td>\n",
       "      <td>153.00</td>\n",
       "    </tr>\n",
       "    <tr>\n",
       "      <th>Lithuania</th>\n",
       "      <td>537827</td>\n",
       "      <td>85206A</td>\n",
       "      <td>SILVER MUG BONE CHINA TREE OF LIFE</td>\n",
       "      <td>48</td>\n",
       "      <td>8/12/2010 14:43</td>\n",
       "      <td>5.95</td>\n",
       "      <td>15332.0</td>\n",
       "      <td>122.40</td>\n",
       "    </tr>\n",
       "    <tr>\n",
       "      <th>Poland</th>\n",
       "      <td>C577395</td>\n",
       "      <td>POST</td>\n",
       "      <td>ZINC WILLIE WINKIE  CANDLE STICK</td>\n",
       "      <td>72</td>\n",
       "      <td>8/2/2011 11:31</td>\n",
       "      <td>40.00</td>\n",
       "      <td>12816.0</td>\n",
       "      <td>120.00</td>\n",
       "    </tr>\n",
       "    <tr>\n",
       "      <th>Bahrain</th>\n",
       "      <td>553900</td>\n",
       "      <td>85040A</td>\n",
       "      <td>VANILLA SCENT CANDLE JEWELLED BOX</td>\n",
       "      <td>96</td>\n",
       "      <td>9/5/2011 13:49</td>\n",
       "      <td>12.75</td>\n",
       "      <td>12355.0</td>\n",
       "      <td>120.00</td>\n",
       "    </tr>\n",
       "    <tr>\n",
       "      <th>USA</th>\n",
       "      <td>C581229</td>\n",
       "      <td>85099B</td>\n",
       "      <td>WRAP ENGLISH ROSE</td>\n",
       "      <td>72</td>\n",
       "      <td>8/12/2011 10:14</td>\n",
       "      <td>16.95</td>\n",
       "      <td>12733.0</td>\n",
       "      <td>81.36</td>\n",
       "    </tr>\n",
       "    <tr>\n",
       "      <th>Czech Republic</th>\n",
       "      <td>C577353</td>\n",
       "      <td>POST</td>\n",
       "      <td>WOODEN TREE CHRISTMAS SCANDINAVIAN</td>\n",
       "      <td>72</td>\n",
       "      <td>7/10/2011 10:37</td>\n",
       "      <td>40.00</td>\n",
       "      <td>12781.0</td>\n",
       "      <td>70.80</td>\n",
       "    </tr>\n",
       "    <tr>\n",
       "      <th>Unspecified</th>\n",
       "      <td>564051</td>\n",
       "      <td>85213</td>\n",
       "      <td>ZINC METAL HEART DECORATION</td>\n",
       "      <td>36</td>\n",
       "      <td>28-07-2011 16:21</td>\n",
       "      <td>16.95</td>\n",
       "      <td>16320.0</td>\n",
       "      <td>69.36</td>\n",
       "    </tr>\n",
       "    <tr>\n",
       "      <th>European Community</th>\n",
       "      <td>C556294</td>\n",
       "      <td>POST</td>\n",
       "      <td>WHITE ROCKING HORSE HAND PAINTED</td>\n",
       "      <td>24</td>\n",
       "      <td>6/6/2011 16:01</td>\n",
       "      <td>18.00</td>\n",
       "      <td>15108.0</td>\n",
       "      <td>60.00</td>\n",
       "    </tr>\n",
       "    <tr>\n",
       "      <th>RSA</th>\n",
       "      <td>571035</td>\n",
       "      <td>M</td>\n",
       "      <td>WOODEN CROQUET GARDEN SET</td>\n",
       "      <td>12</td>\n",
       "      <td>13-10-2011 12:50</td>\n",
       "      <td>14.95</td>\n",
       "      <td>12446.0</td>\n",
       "      <td>38.25</td>\n",
       "    </tr>\n",
       "    <tr>\n",
       "      <th>Saudi Arabia</th>\n",
       "      <td>C545507</td>\n",
       "      <td>22969</td>\n",
       "      <td>PLASTERS IN TIN STRONGMAN</td>\n",
       "      <td>12</td>\n",
       "      <td>3/3/2011 11:43</td>\n",
       "      <td>5.49</td>\n",
       "      <td>12565.0</td>\n",
       "      <td>19.80</td>\n",
       "    </tr>\n",
       "  </tbody>\n",
       "</table>\n",
       "</div>"
      ],
      "text/plain": [
       "                     InvoiceNo StockCode                         Description  \\\n",
       "Country                                                                        \n",
       "United Kingdom         C581569      POST    ZINC WIRE SWEETHEART LETTER TRAY   \n",
       "Netherlands            C577481      POST    ZINC WILLIE WINKIE  CANDLE STICK   \n",
       "France                 C581316      POST     ZINC T-LIGHT HOLDER STARS SMALL   \n",
       "Singapore              C571750         M           ZINC FOLKART SLEIGH BELLS   \n",
       "Japan                  C580832         M   WORLD WAR 2 GLIDERS ASSTD DESIGNS   \n",
       "EIRE                   C580056         M    ZINC WIRE SWEETHEART LETTER TRAY   \n",
       "Australia              C574344      POST     YELLOW GIANT GARDEN THERMOMETER   \n",
       "Spain                  C581148      POST     ZINC T-LIGHT HOLDER STARS SMALL   \n",
       "Portugal               C581128      POST         ZINC WIRE KITCHEN ORGANISER   \n",
       "Sweden                 C580702      POST    ZINC WILLIE WINKIE  CANDLE STICK   \n",
       "Germany                C581409      POST    ZINC WILLIE WINKIE  CANDLE STICK   \n",
       "Norway                 C565050      POST    ZINC WILLIE WINKIE  CANDLE STICK   \n",
       "Finland                C581071      POST     ZINC T-LIGHT HOLDER STARS SMALL   \n",
       "Canada                  564428      POST      YELLOW COAT RACK PARIS FASHION   \n",
       "Malta                  C579929      POST              WRAP CHRISTMAS VILLAGE   \n",
       "Denmark                C572187      POST         WRAP VINTAGE PETALS  DESIGN   \n",
       "Channel Islands        C581323         M     ZINC T-LIGHT HOLDER STARS SMALL   \n",
       "Austria                C556793      POST    ZINC WILLIE WINKIE  CANDLE STICK   \n",
       "Switzerland            C578122      POST    ZINC WILLIE WINKIE  CANDLE STICK   \n",
       "Israel                 C539037     90099      YELLOW COAT RACK PARIS FASHION   \n",
       "Cyprus                 C580165      POST         ZINC METAL HEART DECORATION   \n",
       "Italy                  C579864      POST           ZINC FOLKART SLEIGH BELLS   \n",
       "Iceland                 581180    85232D    WOODLAND DESIGN  COTTON TOTE BAG   \n",
       "Greece                 C559681      POST         ZINC METAL HEART DECORATION   \n",
       "Brazil                  550201    84971S                 SPACEBOY LUNCH BOX    \n",
       "Belgium                C580168      POST               WRAP SUKI AND FRIENDS   \n",
       "Lebanon                 542276     85150          WOODEN SKITTLES GARDEN SET   \n",
       "United Arab Emirates    567824      POST                  WRAP PAISLEY PARK    \n",
       "Lithuania               537827    85206A  SILVER MUG BONE CHINA TREE OF LIFE   \n",
       "Poland                 C577395      POST    ZINC WILLIE WINKIE  CANDLE STICK   \n",
       "Bahrain                 553900    85040A   VANILLA SCENT CANDLE JEWELLED BOX   \n",
       "USA                    C581229    85099B                  WRAP ENGLISH ROSE    \n",
       "Czech Republic         C577353      POST  WOODEN TREE CHRISTMAS SCANDINAVIAN   \n",
       "Unspecified             564051     85213         ZINC METAL HEART DECORATION   \n",
       "European Community     C556294      POST    WHITE ROCKING HORSE HAND PAINTED   \n",
       "RSA                     571035         M           WOODEN CROQUET GARDEN SET   \n",
       "Saudi Arabia           C545507     22969           PLASTERS IN TIN STRONGMAN   \n",
       "\n",
       "                      Quantity       InvoiceDate  UnitPrice  CustomerID  \\\n",
       "Country                                                                   \n",
       "United Kingdom           80995     9/9/2011 9:52   38970.00     18287.0   \n",
       "Netherlands               2400    9/9/2011 12:24     206.40     14646.0   \n",
       "France                     912     9/9/2011 8:48    4161.06     14277.0   \n",
       "Singapore                  288    5/4/2011 10:58    3949.32     12744.0   \n",
       "Japan                     2040    9/2/2011 11:21      45.57     12812.0   \n",
       "EIRE                      1440    9/9/2011 11:57    1687.17     14911.0   \n",
       "Australia                 1152    9/3/2011 15:47     350.00     16321.0   \n",
       "Spain                      360    9/6/2011 16:04    1715.85     17097.0   \n",
       "Portugal                   120   9/12/2010 10:55    1241.98     12811.0   \n",
       "Sweden                     768    9/6/2011 12:20      40.00     17404.0   \n",
       "Germany                    600    9/9/2011 10:32     599.50     14335.0   \n",
       "Norway                     240    9/9/2011 13:44     700.00     12752.0   \n",
       "Finland                    144     7/4/2011 9:28     275.60     12704.0   \n",
       "Canada                     504    4/5/2011 10:47     550.94     17844.0   \n",
       "Malta                       48     8/6/2011 8:31      65.00     17828.0   \n",
       "Denmark                    256     9/8/2011 9:41      18.00     13919.0   \n",
       "Channel Islands            407    9/3/2011 11:53     293.00     14937.0   \n",
       "Austria                    288    8/8/2011 10:11      40.00     12865.0   \n",
       "Switzerland                288    9/5/2011 10:06      40.00     13520.0   \n",
       "Israel                     100   4/10/2011 14:55     125.00     12688.0   \n",
       "Cyprus                     288    7/2/2011 14:51     320.69     13809.0   \n",
       "Italy                      200    9/6/2011 10:05     300.00     14912.0   \n",
       "Iceland                    240    9/6/2011 13:01      12.75     12347.0   \n",
       "Greece                      48    8/4/2011 10:32      50.00     17508.0   \n",
       "Brazil                      24  15-04-2011 10:25      10.95     12769.0   \n",
       "Belgium                    272     9/9/2011 9:13      39.95     12876.0   \n",
       "Lebanon                     24  27-01-2011 10:19      14.95     12764.0   \n",
       "United Arab Emirates        72  22-09-2011 13:00      37.50     17829.0   \n",
       "Lithuania                   48   8/12/2010 14:43       5.95     15332.0   \n",
       "Poland                      72    8/2/2011 11:31      40.00     12816.0   \n",
       "Bahrain                     96    9/5/2011 13:49      12.75     12355.0   \n",
       "USA                         72   8/12/2011 10:14      16.95     12733.0   \n",
       "Czech Republic              72   7/10/2011 10:37      40.00     12781.0   \n",
       "Unspecified                 36  28-07-2011 16:21      16.95     16320.0   \n",
       "European Community          24    6/6/2011 16:01      18.00     15108.0   \n",
       "RSA                         12  13-10-2011 12:50      14.95     12446.0   \n",
       "Saudi Arabia                12    3/3/2011 11:43       5.49     12565.0   \n",
       "\n",
       "                         amount  \n",
       "Country                          \n",
       "United Kingdom        168469.60  \n",
       "Netherlands             4992.00  \n",
       "France                  4161.06  \n",
       "Singapore               3949.32  \n",
       "Japan                   3794.40  \n",
       "EIRE                    2365.20  \n",
       "Australia               1718.40  \n",
       "Spain                   1350.00  \n",
       "Portugal                1241.98  \n",
       "Sweden                  1188.00  \n",
       "Germany                  876.00  \n",
       "Norway                   700.00  \n",
       "Finland                  551.20  \n",
       "Canada                   550.94  \n",
       "Malta                    455.00  \n",
       "Denmark                  428.40  \n",
       "Channel Islands          408.00  \n",
       "Austria                  360.00  \n",
       "Switzerland              360.00  \n",
       "Israel                   350.40  \n",
       "Cyprus                   320.69  \n",
       "Italy                    300.00  \n",
       "Iceland                  249.60  \n",
       "Greece                   175.20  \n",
       "Brazil                   175.20  \n",
       "Belgium                  165.00  \n",
       "Lebanon                  153.00  \n",
       "United Arab Emirates     153.00  \n",
       "Lithuania                122.40  \n",
       "Poland                   120.00  \n",
       "Bahrain                  120.00  \n",
       "USA                       81.36  \n",
       "Czech Republic            70.80  \n",
       "Unspecified               69.36  \n",
       "European Community        60.00  \n",
       "RSA                       38.25  \n",
       "Saudi Arabia              19.80  "
      ]
     },
     "execution_count": 102,
     "metadata": {},
     "output_type": "execute_result"
    }
   ],
   "source": [
    "g=retail.groupby('Country')                        #which country is giving highest maximum sale by a particular customer\n",
    "g.max().sort_values(by='amount',ascending=False)"
   ]
  },
  {
   "cell_type": "code",
   "execution_count": 90,
   "id": "029a2c49",
   "metadata": {
    "collapsed": true
   },
   "outputs": [
    {
     "data": {
      "text/html": [
       "<div>\n",
       "<style scoped>\n",
       "    .dataframe tbody tr th:only-of-type {\n",
       "        vertical-align: middle;\n",
       "    }\n",
       "\n",
       "    .dataframe tbody tr th {\n",
       "        vertical-align: top;\n",
       "    }\n",
       "\n",
       "    .dataframe thead th {\n",
       "        text-align: right;\n",
       "    }\n",
       "</style>\n",
       "<table border=\"1\" class=\"dataframe\">\n",
       "  <thead>\n",
       "    <tr style=\"text-align: right;\">\n",
       "      <th></th>\n",
       "      <th>InvoiceNo</th>\n",
       "      <th>StockCode</th>\n",
       "      <th>Description</th>\n",
       "      <th>Quantity</th>\n",
       "      <th>InvoiceDate</th>\n",
       "      <th>UnitPrice</th>\n",
       "      <th>CustomerID</th>\n",
       "      <th>Country</th>\n",
       "      <th>amount</th>\n",
       "    </tr>\n",
       "  </thead>\n",
       "  <tbody>\n",
       "    <tr>\n",
       "      <th>64609</th>\n",
       "      <td>541657</td>\n",
       "      <td>22087</td>\n",
       "      <td>PAPER BUNTING WHITE LACE</td>\n",
       "      <td>6</td>\n",
       "      <td>20-01-2011 12:11</td>\n",
       "      <td>2.95</td>\n",
       "      <td>16321.0</td>\n",
       "      <td>Australia</td>\n",
       "      <td>17.70</td>\n",
       "    </tr>\n",
       "    <tr>\n",
       "      <th>64610</th>\n",
       "      <td>541657</td>\n",
       "      <td>85123A</td>\n",
       "      <td>WHITE HANGING HEART T-LIGHT HOLDER</td>\n",
       "      <td>6</td>\n",
       "      <td>20-01-2011 12:11</td>\n",
       "      <td>2.95</td>\n",
       "      <td>16321.0</td>\n",
       "      <td>Australia</td>\n",
       "      <td>17.70</td>\n",
       "    </tr>\n",
       "    <tr>\n",
       "      <th>64611</th>\n",
       "      <td>541657</td>\n",
       "      <td>21056</td>\n",
       "      <td>DOCTOR'S BAG SOFT TOY</td>\n",
       "      <td>3</td>\n",
       "      <td>20-01-2011 12:11</td>\n",
       "      <td>8.95</td>\n",
       "      <td>16321.0</td>\n",
       "      <td>Australia</td>\n",
       "      <td>26.85</td>\n",
       "    </tr>\n",
       "    <tr>\n",
       "      <th>64612</th>\n",
       "      <td>541657</td>\n",
       "      <td>22960</td>\n",
       "      <td>JAM MAKING SET WITH JARS</td>\n",
       "      <td>6</td>\n",
       "      <td>20-01-2011 12:11</td>\n",
       "      <td>4.25</td>\n",
       "      <td>16321.0</td>\n",
       "      <td>Australia</td>\n",
       "      <td>25.50</td>\n",
       "    </tr>\n",
       "    <tr>\n",
       "      <th>84270</th>\n",
       "      <td>543372</td>\n",
       "      <td>22087</td>\n",
       "      <td>PAPER BUNTING WHITE LACE</td>\n",
       "      <td>18</td>\n",
       "      <td>7/2/2011 15:01</td>\n",
       "      <td>2.95</td>\n",
       "      <td>16321.0</td>\n",
       "      <td>Australia</td>\n",
       "      <td>53.10</td>\n",
       "    </tr>\n",
       "    <tr>\n",
       "      <th>84271</th>\n",
       "      <td>543372</td>\n",
       "      <td>22325</td>\n",
       "      <td>MOBILE VINTAGE HEARTS</td>\n",
       "      <td>3</td>\n",
       "      <td>7/2/2011 15:01</td>\n",
       "      <td>4.95</td>\n",
       "      <td>16321.0</td>\n",
       "      <td>Australia</td>\n",
       "      <td>14.85</td>\n",
       "    </tr>\n",
       "    <tr>\n",
       "      <th>84299</th>\n",
       "      <td>C543375</td>\n",
       "      <td>22325</td>\n",
       "      <td>MOBILE VINTAGE HEARTS</td>\n",
       "      <td>-3</td>\n",
       "      <td>7/2/2011 15:09</td>\n",
       "      <td>4.95</td>\n",
       "      <td>16321.0</td>\n",
       "      <td>Australia</td>\n",
       "      <td>-14.85</td>\n",
       "    </tr>\n",
       "    <tr>\n",
       "      <th>84300</th>\n",
       "      <td>C543375</td>\n",
       "      <td>22087</td>\n",
       "      <td>PAPER BUNTING WHITE LACE</td>\n",
       "      <td>-18</td>\n",
       "      <td>7/2/2011 15:09</td>\n",
       "      <td>2.95</td>\n",
       "      <td>16321.0</td>\n",
       "      <td>Australia</td>\n",
       "      <td>-53.10</td>\n",
       "    </tr>\n",
       "    <tr>\n",
       "      <th>84301</th>\n",
       "      <td>543376</td>\n",
       "      <td>22325</td>\n",
       "      <td>MOBILE VINTAGE HEARTS</td>\n",
       "      <td>3</td>\n",
       "      <td>7/2/2011 15:10</td>\n",
       "      <td>4.95</td>\n",
       "      <td>16321.0</td>\n",
       "      <td>Australia</td>\n",
       "      <td>14.85</td>\n",
       "    </tr>\n",
       "    <tr>\n",
       "      <th>84302</th>\n",
       "      <td>543376</td>\n",
       "      <td>22087</td>\n",
       "      <td>PAPER BUNTING WHITE LACE</td>\n",
       "      <td>18</td>\n",
       "      <td>7/2/2011 15:10</td>\n",
       "      <td>2.95</td>\n",
       "      <td>16321.0</td>\n",
       "      <td>Australia</td>\n",
       "      <td>53.10</td>\n",
       "    </tr>\n",
       "    <tr>\n",
       "      <th>364984</th>\n",
       "      <td>568687</td>\n",
       "      <td>22090</td>\n",
       "      <td>PAPER BUNTING RETROSPOT</td>\n",
       "      <td>12</td>\n",
       "      <td>28-09-2011 14:26</td>\n",
       "      <td>2.95</td>\n",
       "      <td>16321.0</td>\n",
       "      <td>Australia</td>\n",
       "      <td>35.40</td>\n",
       "    </tr>\n",
       "    <tr>\n",
       "      <th>364985</th>\n",
       "      <td>568687</td>\n",
       "      <td>21198</td>\n",
       "      <td>WHITE HEART CONFETTI IN TUBE</td>\n",
       "      <td>24</td>\n",
       "      <td>28-09-2011 14:26</td>\n",
       "      <td>1.65</td>\n",
       "      <td>16321.0</td>\n",
       "      <td>Australia</td>\n",
       "      <td>39.60</td>\n",
       "    </tr>\n",
       "    <tr>\n",
       "      <th>365078</th>\n",
       "      <td>568695</td>\n",
       "      <td>22090</td>\n",
       "      <td>PAPER BUNTING RETROSPOT</td>\n",
       "      <td>12</td>\n",
       "      <td>28-09-2011 14:55</td>\n",
       "      <td>2.95</td>\n",
       "      <td>16321.0</td>\n",
       "      <td>Australia</td>\n",
       "      <td>35.40</td>\n",
       "    </tr>\n",
       "    <tr>\n",
       "      <th>365079</th>\n",
       "      <td>568695</td>\n",
       "      <td>21198</td>\n",
       "      <td>WHITE HEART CONFETTI IN TUBE</td>\n",
       "      <td>24</td>\n",
       "      <td>28-09-2011 14:55</td>\n",
       "      <td>1.65</td>\n",
       "      <td>16321.0</td>\n",
       "      <td>Australia</td>\n",
       "      <td>39.60</td>\n",
       "    </tr>\n",
       "    <tr>\n",
       "      <th>365080</th>\n",
       "      <td>C568694</td>\n",
       "      <td>22090</td>\n",
       "      <td>PAPER BUNTING RETROSPOT</td>\n",
       "      <td>-12</td>\n",
       "      <td>28-09-2011 14:55</td>\n",
       "      <td>2.95</td>\n",
       "      <td>16321.0</td>\n",
       "      <td>Australia</td>\n",
       "      <td>-35.40</td>\n",
       "    </tr>\n",
       "    <tr>\n",
       "      <th>365081</th>\n",
       "      <td>C568694</td>\n",
       "      <td>21198</td>\n",
       "      <td>WHITE HEART CONFETTI IN TUBE</td>\n",
       "      <td>-24</td>\n",
       "      <td>28-09-2011 14:55</td>\n",
       "      <td>1.65</td>\n",
       "      <td>16321.0</td>\n",
       "      <td>Australia</td>\n",
       "      <td>-39.60</td>\n",
       "    </tr>\n",
       "  </tbody>\n",
       "</table>\n",
       "</div>"
      ],
      "text/plain": [
       "       InvoiceNo StockCode                         Description  Quantity  \\\n",
       "64609     541657     22087            PAPER BUNTING WHITE LACE         6   \n",
       "64610     541657    85123A  WHITE HANGING HEART T-LIGHT HOLDER         6   \n",
       "64611     541657     21056               DOCTOR'S BAG SOFT TOY         3   \n",
       "64612     541657     22960            JAM MAKING SET WITH JARS         6   \n",
       "84270     543372     22087            PAPER BUNTING WHITE LACE        18   \n",
       "84271     543372     22325              MOBILE VINTAGE HEARTS          3   \n",
       "84299    C543375     22325              MOBILE VINTAGE HEARTS         -3   \n",
       "84300    C543375     22087            PAPER BUNTING WHITE LACE       -18   \n",
       "84301     543376     22325              MOBILE VINTAGE HEARTS          3   \n",
       "84302     543376     22087            PAPER BUNTING WHITE LACE        18   \n",
       "364984    568687     22090             PAPER BUNTING RETROSPOT        12   \n",
       "364985    568687     21198        WHITE HEART CONFETTI IN TUBE        24   \n",
       "365078    568695     22090             PAPER BUNTING RETROSPOT        12   \n",
       "365079    568695     21198        WHITE HEART CONFETTI IN TUBE        24   \n",
       "365080   C568694     22090             PAPER BUNTING RETROSPOT       -12   \n",
       "365081   C568694     21198        WHITE HEART CONFETTI IN TUBE       -24   \n",
       "\n",
       "             InvoiceDate  UnitPrice  CustomerID    Country  amount  \n",
       "64609   20-01-2011 12:11       2.95     16321.0  Australia   17.70  \n",
       "64610   20-01-2011 12:11       2.95     16321.0  Australia   17.70  \n",
       "64611   20-01-2011 12:11       8.95     16321.0  Australia   26.85  \n",
       "64612   20-01-2011 12:11       4.25     16321.0  Australia   25.50  \n",
       "84270     7/2/2011 15:01       2.95     16321.0  Australia   53.10  \n",
       "84271     7/2/2011 15:01       4.95     16321.0  Australia   14.85  \n",
       "84299     7/2/2011 15:09       4.95     16321.0  Australia  -14.85  \n",
       "84300     7/2/2011 15:09       2.95     16321.0  Australia  -53.10  \n",
       "84301     7/2/2011 15:10       4.95     16321.0  Australia   14.85  \n",
       "84302     7/2/2011 15:10       2.95     16321.0  Australia   53.10  \n",
       "364984  28-09-2011 14:26       2.95     16321.0  Australia   35.40  \n",
       "364985  28-09-2011 14:26       1.65     16321.0  Australia   39.60  \n",
       "365078  28-09-2011 14:55       2.95     16321.0  Australia   35.40  \n",
       "365079  28-09-2011 14:55       1.65     16321.0  Australia   39.60  \n",
       "365080  28-09-2011 14:55       2.95     16321.0  Australia  -35.40  \n",
       "365081  28-09-2011 14:55       1.65     16321.0  Australia  -39.60  "
      ]
     },
     "execution_count": 90,
     "metadata": {},
     "output_type": "execute_result"
    }
   ],
   "source": [
    "retail[retail['CustomerID']==16321.0]"
   ]
  },
  {
   "cell_type": "code",
   "execution_count": 110,
   "id": "3d49fd8a",
   "metadata": {
    "collapsed": true
   },
   "outputs": [
    {
     "name": "stderr",
     "output_type": "stream",
     "text": [
      "C:\\Users\\bharat.sakarwal\\AppData\\Local\\Temp\\ipykernel_39112\\3865889485.py:1: FutureWarning: The default value of numeric_only in DataFrameGroupBy.sum is deprecated. In a future version, numeric_only will default to False. Either specify numeric_only or select only columns which should be valid for the function.\n",
      "  g.sum().sort_values('amount',ascending=False)['amount'] #which country is giving highest sales\n"
     ]
    },
    {
     "data": {
      "text/plain": [
       "Country\n",
       "United Kingdom          6767873.394\n",
       "Netherlands              284661.540\n",
       "EIRE                     250285.220\n",
       "Germany                  221698.210\n",
       "France                   196712.840\n",
       "Australia                137077.270\n",
       "Switzerland               55739.400\n",
       "Spain                     54774.580\n",
       "Belgium                   40910.960\n",
       "Sweden                    36595.910\n",
       "Japan                     35340.620\n",
       "Norway                    35163.460\n",
       "Portugal                  29059.810\n",
       "Finland                   22326.740\n",
       "Channel Islands           20086.290\n",
       "Denmark                   18768.140\n",
       "Italy                     16890.510\n",
       "Cyprus                    12946.290\n",
       "Austria                   10154.320\n",
       "Singapore                  9120.390\n",
       "Poland                     7213.140\n",
       "Israel                     6994.250\n",
       "Greece                     4710.520\n",
       "Iceland                    4310.000\n",
       "Canada                     3666.380\n",
       "Unspecified                2667.070\n",
       "Malta                      2505.470\n",
       "United Arab Emirates       1902.280\n",
       "USA                        1730.920\n",
       "Lebanon                    1693.880\n",
       "Lithuania                  1661.060\n",
       "European Community         1291.750\n",
       "Brazil                     1143.600\n",
       "RSA                        1002.310\n",
       "Czech Republic              707.720\n",
       "Bahrain                     548.400\n",
       "Saudi Arabia                131.170\n",
       "Name: amount, dtype: float64"
      ]
     },
     "execution_count": 110,
     "metadata": {},
     "output_type": "execute_result"
    }
   ],
   "source": [
    "g.sum().sort_values('amount',ascending=False)['amount']   # order of countries by highest sales"
   ]
  },
  {
   "cell_type": "code",
   "execution_count": 111,
   "id": "2cb57354",
   "metadata": {},
   "outputs": [],
   "source": [
    "c=retail.groupby('CustomerID')"
   ]
  },
  {
   "cell_type": "code",
   "execution_count": 121,
   "id": "8b783935",
   "metadata": {},
   "outputs": [
    {
     "name": "stderr",
     "output_type": "stream",
     "text": [
      "C:\\Users\\bharat.sakarwal\\AppData\\Local\\Temp\\ipykernel_39112\\3319753872.py:1: FutureWarning: The default value of numeric_only in DataFrameGroupBy.sum is deprecated. In a future version, numeric_only will default to False. Either specify numeric_only or select only columns which should be valid for the function.\n",
      "  c.sum().sort_values('amount',ascending=False)\n"
     ]
    },
    {
     "data": {
      "text/html": [
       "<div>\n",
       "<style scoped>\n",
       "    .dataframe tbody tr th:only-of-type {\n",
       "        vertical-align: middle;\n",
       "    }\n",
       "\n",
       "    .dataframe tbody tr th {\n",
       "        vertical-align: top;\n",
       "    }\n",
       "\n",
       "    .dataframe thead th {\n",
       "        text-align: right;\n",
       "    }\n",
       "</style>\n",
       "<table border=\"1\" class=\"dataframe\">\n",
       "  <thead>\n",
       "    <tr style=\"text-align: right;\">\n",
       "      <th></th>\n",
       "      <th>Quantity</th>\n",
       "      <th>UnitPrice</th>\n",
       "      <th>amount</th>\n",
       "    </tr>\n",
       "    <tr>\n",
       "      <th>CustomerID</th>\n",
       "      <th></th>\n",
       "      <th></th>\n",
       "      <th></th>\n",
       "    </tr>\n",
       "  </thead>\n",
       "  <tbody>\n",
       "    <tr>\n",
       "      <th>14646.0</th>\n",
       "      <td>196719</td>\n",
       "      <td>5400.21</td>\n",
       "      <td>279489.02</td>\n",
       "    </tr>\n",
       "    <tr>\n",
       "      <th>18102.0</th>\n",
       "      <td>64122</td>\n",
       "      <td>5159.73</td>\n",
       "      <td>256438.49</td>\n",
       "    </tr>\n",
       "    <tr>\n",
       "      <th>17450.0</th>\n",
       "      <td>69029</td>\n",
       "      <td>3320.09</td>\n",
       "      <td>187482.17</td>\n",
       "    </tr>\n",
       "    <tr>\n",
       "      <th>14911.0</th>\n",
       "      <td>77180</td>\n",
       "      <td>31060.66</td>\n",
       "      <td>132572.62</td>\n",
       "    </tr>\n",
       "    <tr>\n",
       "      <th>12415.0</th>\n",
       "      <td>77242</td>\n",
       "      <td>2499.82</td>\n",
       "      <td>123725.45</td>\n",
       "    </tr>\n",
       "    <tr>\n",
       "      <th>...</th>\n",
       "      <td>...</td>\n",
       "      <td>...</td>\n",
       "      <td>...</td>\n",
       "    </tr>\n",
       "    <tr>\n",
       "      <th>12503.0</th>\n",
       "      <td>-1</td>\n",
       "      <td>1126.00</td>\n",
       "      <td>-1126.00</td>\n",
       "    </tr>\n",
       "    <tr>\n",
       "      <th>17603.0</th>\n",
       "      <td>-31</td>\n",
       "      <td>1156.89</td>\n",
       "      <td>-1165.30</td>\n",
       "    </tr>\n",
       "    <tr>\n",
       "      <th>14213.0</th>\n",
       "      <td>-244</td>\n",
       "      <td>24.45</td>\n",
       "      <td>-1192.20</td>\n",
       "    </tr>\n",
       "    <tr>\n",
       "      <th>15369.0</th>\n",
       "      <td>-1</td>\n",
       "      <td>1592.49</td>\n",
       "      <td>-1592.49</td>\n",
       "    </tr>\n",
       "    <tr>\n",
       "      <th>17448.0</th>\n",
       "      <td>-1</td>\n",
       "      <td>4287.63</td>\n",
       "      <td>-4287.63</td>\n",
       "    </tr>\n",
       "  </tbody>\n",
       "</table>\n",
       "<p>4372 rows × 3 columns</p>\n",
       "</div>"
      ],
      "text/plain": [
       "            Quantity  UnitPrice     amount\n",
       "CustomerID                                \n",
       "14646.0       196719    5400.21  279489.02\n",
       "18102.0        64122    5159.73  256438.49\n",
       "17450.0        69029    3320.09  187482.17\n",
       "14911.0        77180   31060.66  132572.62\n",
       "12415.0        77242    2499.82  123725.45\n",
       "...              ...        ...        ...\n",
       "12503.0           -1    1126.00   -1126.00\n",
       "17603.0          -31    1156.89   -1165.30\n",
       "14213.0         -244      24.45   -1192.20\n",
       "15369.0           -1    1592.49   -1592.49\n",
       "17448.0           -1    4287.63   -4287.63\n",
       "\n",
       "[4372 rows x 3 columns]"
      ]
     },
     "execution_count": 121,
     "metadata": {},
     "output_type": "execute_result"
    }
   ],
   "source": [
    "c.sum().sort_values('amount',ascending=False)   #"
   ]
  },
  {
   "cell_type": "code",
   "execution_count": 128,
   "id": "604c4a7c",
   "metadata": {},
   "outputs": [
    {
     "data": {
      "text/plain": [
       "CustomerID\n",
       "17841.0    7983\n",
       "14911.0    5903\n",
       "14096.0    5128\n",
       "12748.0    4642\n",
       "14606.0    2782\n",
       "           ... \n",
       "14119.0       1\n",
       "13747.0       1\n",
       "15590.0       1\n",
       "15562.0       1\n",
       "17925.0       1\n",
       "Name: InvoiceNo, Length: 4372, dtype: int64"
      ]
     },
     "execution_count": 128,
     "metadata": {},
     "output_type": "execute_result"
    }
   ],
   "source": [
    "freq=c['InvoiceNo'].count().sort_values(ascending=False)   #Transaction of customers from max to min on basis of customer id"
   ]
  },
  {
   "cell_type": "markdown",
   "id": "3c50b2cb",
   "metadata": {},
   "source": [
    "#### Megre 2 Data Frames with frequency(no. of transaction) and amount paid by customer"
   ]
  },
  {
   "cell_type": "code",
   "execution_count": 133,
   "id": "0ea1b568",
   "metadata": {},
   "outputs": [],
   "source": [
    "customer_group=retail.groupby('CustomerID')['amount'].sum()"
   ]
  },
  {
   "cell_type": "code",
   "execution_count": 134,
   "id": "9e78fae3",
   "metadata": {},
   "outputs": [],
   "source": [
    "cus_count=retail.groupby('CustomerID')['InvoiceNo'].count()"
   ]
  },
  {
   "cell_type": "code",
   "execution_count": 138,
   "id": "f89ad87f",
   "metadata": {},
   "outputs": [],
   "source": [
    "customer_group=customer_group.reset_index()\n",
    "cus_count=cus_count.reset_index()"
   ]
  },
  {
   "cell_type": "code",
   "execution_count": 142,
   "id": "5e7d0ae8",
   "metadata": {},
   "outputs": [],
   "source": [
    "cus_count.columns=['CustomerID','frequency']"
   ]
  },
  {
   "cell_type": "code",
   "execution_count": 140,
   "id": "9f5e449a",
   "metadata": {},
   "outputs": [
    {
     "data": {
      "text/html": [
       "<div>\n",
       "<style scoped>\n",
       "    .dataframe tbody tr th:only-of-type {\n",
       "        vertical-align: middle;\n",
       "    }\n",
       "\n",
       "    .dataframe tbody tr th {\n",
       "        vertical-align: top;\n",
       "    }\n",
       "\n",
       "    .dataframe thead th {\n",
       "        text-align: right;\n",
       "    }\n",
       "</style>\n",
       "<table border=\"1\" class=\"dataframe\">\n",
       "  <thead>\n",
       "    <tr style=\"text-align: right;\">\n",
       "      <th></th>\n",
       "      <th>CustomerID</th>\n",
       "      <th>amount</th>\n",
       "    </tr>\n",
       "  </thead>\n",
       "  <tbody>\n",
       "    <tr>\n",
       "      <th>0</th>\n",
       "      <td>12346.0</td>\n",
       "      <td>0.00</td>\n",
       "    </tr>\n",
       "    <tr>\n",
       "      <th>1</th>\n",
       "      <td>12347.0</td>\n",
       "      <td>4310.00</td>\n",
       "    </tr>\n",
       "    <tr>\n",
       "      <th>2</th>\n",
       "      <td>12348.0</td>\n",
       "      <td>1797.24</td>\n",
       "    </tr>\n",
       "    <tr>\n",
       "      <th>3</th>\n",
       "      <td>12349.0</td>\n",
       "      <td>1757.55</td>\n",
       "    </tr>\n",
       "    <tr>\n",
       "      <th>4</th>\n",
       "      <td>12350.0</td>\n",
       "      <td>334.40</td>\n",
       "    </tr>\n",
       "  </tbody>\n",
       "</table>\n",
       "</div>"
      ],
      "text/plain": [
       "   CustomerID   amount\n",
       "0     12346.0     0.00\n",
       "1     12347.0  4310.00\n",
       "2     12348.0  1797.24\n",
       "3     12349.0  1757.55\n",
       "4     12350.0   334.40"
      ]
     },
     "execution_count": 140,
     "metadata": {},
     "output_type": "execute_result"
    }
   ],
   "source": [
    "customer_group.head()"
   ]
  },
  {
   "cell_type": "code",
   "execution_count": 143,
   "id": "914f2a00",
   "metadata": {},
   "outputs": [
    {
     "data": {
      "text/html": [
       "<div>\n",
       "<style scoped>\n",
       "    .dataframe tbody tr th:only-of-type {\n",
       "        vertical-align: middle;\n",
       "    }\n",
       "\n",
       "    .dataframe tbody tr th {\n",
       "        vertical-align: top;\n",
       "    }\n",
       "\n",
       "    .dataframe thead th {\n",
       "        text-align: right;\n",
       "    }\n",
       "</style>\n",
       "<table border=\"1\" class=\"dataframe\">\n",
       "  <thead>\n",
       "    <tr style=\"text-align: right;\">\n",
       "      <th></th>\n",
       "      <th>CustomerID</th>\n",
       "      <th>frequency</th>\n",
       "    </tr>\n",
       "  </thead>\n",
       "  <tbody>\n",
       "    <tr>\n",
       "      <th>0</th>\n",
       "      <td>12346.0</td>\n",
       "      <td>2</td>\n",
       "    </tr>\n",
       "    <tr>\n",
       "      <th>1</th>\n",
       "      <td>12347.0</td>\n",
       "      <td>182</td>\n",
       "    </tr>\n",
       "    <tr>\n",
       "      <th>2</th>\n",
       "      <td>12348.0</td>\n",
       "      <td>31</td>\n",
       "    </tr>\n",
       "    <tr>\n",
       "      <th>3</th>\n",
       "      <td>12349.0</td>\n",
       "      <td>73</td>\n",
       "    </tr>\n",
       "    <tr>\n",
       "      <th>4</th>\n",
       "      <td>12350.0</td>\n",
       "      <td>17</td>\n",
       "    </tr>\n",
       "  </tbody>\n",
       "</table>\n",
       "</div>"
      ],
      "text/plain": [
       "   CustomerID  frequency\n",
       "0     12346.0          2\n",
       "1     12347.0        182\n",
       "2     12348.0         31\n",
       "3     12349.0         73\n",
       "4     12350.0         17"
      ]
     },
     "execution_count": 143,
     "metadata": {},
     "output_type": "execute_result"
    }
   ],
   "source": [
    "cus_count.head()"
   ]
  },
  {
   "cell_type": "code",
   "execution_count": 144,
   "id": "39876651",
   "metadata": {},
   "outputs": [],
   "source": [
    "customer_group=pd.merge(customer_group,cus_count,on='CustomerID',how='inner')"
   ]
  },
  {
   "cell_type": "code",
   "execution_count": 147,
   "id": "19aa70f8",
   "metadata": {},
   "outputs": [
    {
     "data": {
      "text/html": [
       "<div>\n",
       "<style scoped>\n",
       "    .dataframe tbody tr th:only-of-type {\n",
       "        vertical-align: middle;\n",
       "    }\n",
       "\n",
       "    .dataframe tbody tr th {\n",
       "        vertical-align: top;\n",
       "    }\n",
       "\n",
       "    .dataframe thead th {\n",
       "        text-align: right;\n",
       "    }\n",
       "</style>\n",
       "<table border=\"1\" class=\"dataframe\">\n",
       "  <thead>\n",
       "    <tr style=\"text-align: right;\">\n",
       "      <th></th>\n",
       "      <th>CustomerID</th>\n",
       "      <th>amount</th>\n",
       "      <th>frequency</th>\n",
       "    </tr>\n",
       "  </thead>\n",
       "  <tbody>\n",
       "    <tr>\n",
       "      <th>1703</th>\n",
       "      <td>14646.0</td>\n",
       "      <td>279489.02</td>\n",
       "      <td>2085</td>\n",
       "    </tr>\n",
       "    <tr>\n",
       "      <th>4233</th>\n",
       "      <td>18102.0</td>\n",
       "      <td>256438.49</td>\n",
       "      <td>433</td>\n",
       "    </tr>\n",
       "    <tr>\n",
       "      <th>3758</th>\n",
       "      <td>17450.0</td>\n",
       "      <td>187482.17</td>\n",
       "      <td>351</td>\n",
       "    </tr>\n",
       "    <tr>\n",
       "      <th>1895</th>\n",
       "      <td>14911.0</td>\n",
       "      <td>132572.62</td>\n",
       "      <td>5903</td>\n",
       "    </tr>\n",
       "    <tr>\n",
       "      <th>55</th>\n",
       "      <td>12415.0</td>\n",
       "      <td>123725.45</td>\n",
       "      <td>778</td>\n",
       "    </tr>\n",
       "  </tbody>\n",
       "</table>\n",
       "</div>"
      ],
      "text/plain": [
       "      CustomerID     amount  frequency\n",
       "1703     14646.0  279489.02       2085\n",
       "4233     18102.0  256438.49        433\n",
       "3758     17450.0  187482.17        351\n",
       "1895     14911.0  132572.62       5903\n",
       "55       12415.0  123725.45        778"
      ]
     },
     "execution_count": 147,
     "metadata": {},
     "output_type": "execute_result"
    }
   ],
   "source": [
    "customer_group.sort_values('amount',ascending=False).head()"
   ]
  },
  {
   "cell_type": "code",
   "execution_count": 148,
   "id": "de893eb8",
   "metadata": {},
   "outputs": [
    {
     "data": {
      "text/html": [
       "<div>\n",
       "<style scoped>\n",
       "    .dataframe tbody tr th:only-of-type {\n",
       "        vertical-align: middle;\n",
       "    }\n",
       "\n",
       "    .dataframe tbody tr th {\n",
       "        vertical-align: top;\n",
       "    }\n",
       "\n",
       "    .dataframe thead th {\n",
       "        text-align: right;\n",
       "    }\n",
       "</style>\n",
       "<table border=\"1\" class=\"dataframe\">\n",
       "  <thead>\n",
       "    <tr style=\"text-align: right;\">\n",
       "      <th></th>\n",
       "      <th>CustomerID</th>\n",
       "      <th>amount</th>\n",
       "      <th>frequency</th>\n",
       "    </tr>\n",
       "  </thead>\n",
       "  <tbody>\n",
       "    <tr>\n",
       "      <th>4042</th>\n",
       "      <td>17841.0</td>\n",
       "      <td>40340.78</td>\n",
       "      <td>7983</td>\n",
       "    </tr>\n",
       "    <tr>\n",
       "      <th>1895</th>\n",
       "      <td>14911.0</td>\n",
       "      <td>132572.62</td>\n",
       "      <td>5903</td>\n",
       "    </tr>\n",
       "    <tr>\n",
       "      <th>1300</th>\n",
       "      <td>14096.0</td>\n",
       "      <td>57120.91</td>\n",
       "      <td>5128</td>\n",
       "    </tr>\n",
       "    <tr>\n",
       "      <th>330</th>\n",
       "      <td>12748.0</td>\n",
       "      <td>29072.10</td>\n",
       "      <td>4642</td>\n",
       "    </tr>\n",
       "    <tr>\n",
       "      <th>1674</th>\n",
       "      <td>14606.0</td>\n",
       "      <td>11713.85</td>\n",
       "      <td>2782</td>\n",
       "    </tr>\n",
       "  </tbody>\n",
       "</table>\n",
       "</div>"
      ],
      "text/plain": [
       "      CustomerID     amount  frequency\n",
       "4042     17841.0   40340.78       7983\n",
       "1895     14911.0  132572.62       5903\n",
       "1300     14096.0   57120.91       5128\n",
       "330      12748.0   29072.10       4642\n",
       "1674     14606.0   11713.85       2782"
      ]
     },
     "execution_count": 148,
     "metadata": {},
     "output_type": "execute_result"
    }
   ],
   "source": [
    "customer_group.sort_values('frequency',ascending=False).head()"
   ]
  },
  {
   "cell_type": "code",
   "execution_count": 178,
   "id": "aa774b8a",
   "metadata": {},
   "outputs": [
    {
     "data": {
      "text/html": [
       "<div>\n",
       "<style scoped>\n",
       "    .dataframe tbody tr th:only-of-type {\n",
       "        vertical-align: middle;\n",
       "    }\n",
       "\n",
       "    .dataframe tbody tr th {\n",
       "        vertical-align: top;\n",
       "    }\n",
       "\n",
       "    .dataframe thead th {\n",
       "        text-align: right;\n",
       "    }\n",
       "</style>\n",
       "<table border=\"1\" class=\"dataframe\">\n",
       "  <thead>\n",
       "    <tr style=\"text-align: right;\">\n",
       "      <th></th>\n",
       "      <th>InvoiceNo</th>\n",
       "      <th>StockCode</th>\n",
       "      <th>Description</th>\n",
       "      <th>Quantity</th>\n",
       "      <th>InvoiceDate</th>\n",
       "      <th>UnitPrice</th>\n",
       "      <th>CustomerID</th>\n",
       "      <th>Country</th>\n",
       "      <th>amount</th>\n",
       "      <th>diff</th>\n",
       "    </tr>\n",
       "  </thead>\n",
       "  <tbody>\n",
       "    <tr>\n",
       "      <th>0</th>\n",
       "      <td>536365</td>\n",
       "      <td>85123A</td>\n",
       "      <td>WHITE HANGING HEART T-LIGHT HOLDER</td>\n",
       "      <td>6</td>\n",
       "      <td>2010-01-12 08:26:00</td>\n",
       "      <td>2.55</td>\n",
       "      <td>17850.0</td>\n",
       "      <td>United Kingdom</td>\n",
       "      <td>15.30</td>\n",
       "      <td>697 days 08:53:00</td>\n",
       "    </tr>\n",
       "    <tr>\n",
       "      <th>1</th>\n",
       "      <td>536365</td>\n",
       "      <td>71053</td>\n",
       "      <td>WHITE METAL LANTERN</td>\n",
       "      <td>6</td>\n",
       "      <td>2010-01-12 08:26:00</td>\n",
       "      <td>3.39</td>\n",
       "      <td>17850.0</td>\n",
       "      <td>United Kingdom</td>\n",
       "      <td>20.34</td>\n",
       "      <td>697 days 08:53:00</td>\n",
       "    </tr>\n",
       "  </tbody>\n",
       "</table>\n",
       "</div>"
      ],
      "text/plain": [
       "  InvoiceNo StockCode                         Description  Quantity  \\\n",
       "0    536365    85123A  WHITE HANGING HEART T-LIGHT HOLDER         6   \n",
       "1    536365     71053                 WHITE METAL LANTERN         6   \n",
       "\n",
       "          InvoiceDate  UnitPrice  CustomerID         Country  amount  \\\n",
       "0 2010-01-12 08:26:00       2.55     17850.0  United Kingdom   15.30   \n",
       "1 2010-01-12 08:26:00       3.39     17850.0  United Kingdom   20.34   \n",
       "\n",
       "               diff  \n",
       "0 697 days 08:53:00  \n",
       "1 697 days 08:53:00  "
      ]
     },
     "execution_count": 178,
     "metadata": {},
     "output_type": "execute_result"
    }
   ],
   "source": [
    "retail.head(2)\n",
    "#retail.info()"
   ]
  },
  {
   "cell_type": "code",
   "execution_count": 152,
   "id": "e0cec604",
   "metadata": {},
   "outputs": [],
   "source": [
    "retail['InvoiceDate']=pd.to_datetime(retail['InvoiceDate'])"
   ]
  },
  {
   "cell_type": "code",
   "execution_count": 160,
   "id": "385015d5",
   "metadata": {},
   "outputs": [],
   "source": [
    "max_date=retail['InvoiceDate'].max()"
   ]
  },
  {
   "cell_type": "code",
   "execution_count": null,
   "id": "ca49ef62",
   "metadata": {},
   "outputs": [],
   "source": [
    "retail['diff']="
   ]
  },
  {
   "cell_type": "code",
   "execution_count": 166,
   "id": "ef8eaaae",
   "metadata": {},
   "outputs": [
    {
     "data": {
      "text/plain": [
       "Timestamp('2011-12-10 17:19:00')"
      ]
     },
     "execution_count": 166,
     "metadata": {},
     "output_type": "execute_result"
    }
   ],
   "source": [
    "max_date"
   ]
  },
  {
   "cell_type": "code",
   "execution_count": 177,
   "id": "c7a817f6",
   "metadata": {},
   "outputs": [],
   "source": [
    "retail['diff'] = max_date - retail['InvoiceDate']"
   ]
  },
  {
   "cell_type": "code",
   "execution_count": 173,
   "id": "9c15b9ea",
   "metadata": {},
   "outputs": [],
   "source": [
    "retail['diff']=pd.to_datetime(retail['InvoiceDate']).dt.day"
   ]
  },
  {
   "cell_type": "code",
   "execution_count": 175,
   "id": "c724983a",
   "metadata": {},
   "outputs": [],
   "source": [
    "#retail=retail.drop('diff',axis=1)"
   ]
  },
  {
   "cell_type": "code",
   "execution_count": 180,
   "id": "5318a813",
   "metadata": {},
   "outputs": [],
   "source": [
    "recency=retail.groupby('CustomerID')['diff'].min()"
   ]
  },
  {
   "cell_type": "code",
   "execution_count": 186,
   "id": "f83adf8f",
   "metadata": {},
   "outputs": [],
   "source": [
    "recency=recency.reset_index()"
   ]
  },
  {
   "cell_type": "code",
   "execution_count": 188,
   "id": "85fc8a11",
   "metadata": {},
   "outputs": [
    {
     "data": {
      "text/html": [
       "<div>\n",
       "<style scoped>\n",
       "    .dataframe tbody tr th:only-of-type {\n",
       "        vertical-align: middle;\n",
       "    }\n",
       "\n",
       "    .dataframe tbody tr th {\n",
       "        vertical-align: top;\n",
       "    }\n",
       "\n",
       "    .dataframe thead th {\n",
       "        text-align: right;\n",
       "    }\n",
       "</style>\n",
       "<table border=\"1\" class=\"dataframe\">\n",
       "  <thead>\n",
       "    <tr style=\"text-align: right;\">\n",
       "      <th></th>\n",
       "      <th>CustomerID</th>\n",
       "      <th>diff</th>\n",
       "    </tr>\n",
       "  </thead>\n",
       "  <tbody>\n",
       "    <tr>\n",
       "      <th>0</th>\n",
       "      <td>12346.0</td>\n",
       "      <td>326 days 07:02:00</td>\n",
       "    </tr>\n",
       "    <tr>\n",
       "      <th>1</th>\n",
       "      <td>12347.0</td>\n",
       "      <td>40 days 04:54:00</td>\n",
       "    </tr>\n",
       "  </tbody>\n",
       "</table>\n",
       "</div>"
      ],
      "text/plain": [
       "   CustomerID              diff\n",
       "0     12346.0 326 days 07:02:00\n",
       "1     12347.0  40 days 04:54:00"
      ]
     },
     "execution_count": 188,
     "metadata": {},
     "output_type": "execute_result"
    }
   ],
   "source": [
    "recency.head(2)"
   ]
  },
  {
   "cell_type": "code",
   "execution_count": 190,
   "id": "47c64743",
   "metadata": {},
   "outputs": [],
   "source": [
    "customer_group=pd.merge(customer_group,recency,on='CustomerID',how='inner')"
   ]
  },
  {
   "cell_type": "code",
   "execution_count": 192,
   "id": "a5478e9f",
   "metadata": {},
   "outputs": [
    {
     "data": {
      "text/plain": [
       "Index(['CustomerID', 'amount', 'frequency', 'diff'], dtype='object')"
      ]
     },
     "execution_count": 192,
     "metadata": {},
     "output_type": "execute_result"
    }
   ],
   "source": [
    "customer_group.columns"
   ]
  },
  {
   "cell_type": "code",
   "execution_count": 194,
   "id": "98d133fd",
   "metadata": {},
   "outputs": [],
   "source": [
    "#customer_group.columns=['CustomerID', 'amount', 'frequency', 'recency']\n",
    "customer_group=customer_group.rename(columns={'diff':'recency'})"
   ]
  },
  {
   "cell_type": "code",
   "execution_count": 243,
   "id": "4261e739",
   "metadata": {},
   "outputs": [
    {
     "name": "stdout",
     "output_type": "stream",
     "text": [
      "<class 'pandas.core.frame.DataFrame'>\n",
      "Int64Index: 4372 entries, 0 to 4371\n",
      "Data columns (total 4 columns):\n",
      " #   Column      Non-Null Count  Dtype  \n",
      "---  ------      --------------  -----  \n",
      " 0   CustomerID  4372 non-null   float64\n",
      " 1   amount      4372 non-null   float64\n",
      " 2   frequency   4372 non-null   int64  \n",
      " 3   recency     4372 non-null   int64  \n",
      "dtypes: float64(2), int64(2)\n",
      "memory usage: 299.8 KB\n"
     ]
    }
   ],
   "source": [
    "customer_group.head(2)\n",
    "customer_group.info()"
   ]
  },
  {
   "cell_type": "code",
   "execution_count": 201,
   "id": "3a7104f2",
   "metadata": {},
   "outputs": [],
   "source": [
    "#pd.to_datetime(customer_group['recency']).dt.day\n",
    "customer_group['recency']=customer_group['recency'].dt.days"
   ]
  },
  {
   "cell_type": "code",
   "execution_count": 205,
   "id": "b6c0e65d",
   "metadata": {},
   "outputs": [],
   "source": [
    "import seaborn as sns"
   ]
  },
  {
   "cell_type": "code",
   "execution_count": 206,
   "id": "56b9b33f",
   "metadata": {},
   "outputs": [
    {
     "data": {
      "text/plain": [
       "<Axes: >"
      ]
     },
     "execution_count": 206,
     "metadata": {},
     "output_type": "execute_result"
    },
    {
     "data": {
      "image/png": "[encoded data removed]",
      "text/plain": [
       "<Figure size 640x480 with 1 Axes>"
      ]
     },
     "metadata": {},
     "output_type": "display_data"
    }
   ],
   "source": [
    "sns.boxplot(customer_group['recency'])"
   ]
  },
  {
   "cell_type": "code",
   "execution_count": 216,
   "id": "cae43e18",
   "metadata": {},
   "outputs": [],
   "source": [
    "recency_95=np.percentile(customer_group['recency'],95)\n",
    "recency_5=np.percentile(customer_group['recency'],5)"
   ]
  },
  {
   "cell_type": "code",
   "execution_count": 223,
   "id": "d71c2878",
   "metadata": {},
   "outputs": [
    {
     "data": {
      "text/plain": [
       "311.0"
      ]
     },
     "execution_count": 223,
     "metadata": {},
     "output_type": "execute_result"
    }
   ],
   "source": [
    "IQR_recency=recency_95-recency_5\n",
    "IQR_recency"
   ]
  },
  {
   "cell_type": "code",
   "execution_count": 228,
   "id": "996f672f",
   "metadata": {},
   "outputs": [
    {
     "data": {
      "text/plain": [
       "780.5"
      ]
     },
     "execution_count": 228,
     "metadata": {},
     "output_type": "execute_result"
    }
   ],
   "source": [
    "ur=recency_95+(1.5*IQR_recency)\n",
    "ur"
   ]
  },
  {
   "cell_type": "code",
   "execution_count": 229,
   "id": "65bec604",
   "metadata": {},
   "outputs": [
    {
     "data": {
      "text/plain": [
       "-463.5"
      ]
     },
     "execution_count": 229,
     "metadata": {},
     "output_type": "execute_result"
    }
   ],
   "source": [
    "lr=recency_5-(1.5*IQR_recency)\n",
    "lr"
   ]
  },
  {
   "cell_type": "code",
   "execution_count": 226,
   "id": "d065217e",
   "metadata": {},
   "outputs": [],
   "source": [
    "Q1 = customer_group.recency.quantile(0.05)\n",
    "Q3 = customer_group.recency.quantile(0.95)\n",
    "IQR = Q3 - Q1"
   ]
  },
  {
   "cell_type": "code",
   "execution_count": 238,
   "id": "5d637a39",
   "metadata": {},
   "outputs": [
    {
     "name": "stdout",
     "output_type": "stream",
     "text": [
      "780.5\n",
      "-463.5\n"
     ]
    }
   ],
   "source": [
    "IQR\n",
    "print(Q3+(1.5*IQR))\n",
    "print(Q1-(1.5*IQR))"
   ]
  },
  {
   "cell_type": "code",
   "execution_count": 237,
   "id": "33a2f1cb",
   "metadata": {},
   "outputs": [
    {
     "data": {
      "text/html": [
       "<div>\n",
       "<style scoped>\n",
       "    .dataframe tbody tr th:only-of-type {\n",
       "        vertical-align: middle;\n",
       "    }\n",
       "\n",
       "    .dataframe tbody tr th {\n",
       "        vertical-align: top;\n",
       "    }\n",
       "\n",
       "    .dataframe thead th {\n",
       "        text-align: right;\n",
       "    }\n",
       "</style>\n",
       "<table border=\"1\" class=\"dataframe\">\n",
       "  <thead>\n",
       "    <tr style=\"text-align: right;\">\n",
       "      <th></th>\n",
       "      <th>CustomerID</th>\n",
       "      <th>amount</th>\n",
       "      <th>frequency</th>\n",
       "      <th>recency</th>\n",
       "    </tr>\n",
       "  </thead>\n",
       "  <tbody>\n",
       "  </tbody>\n",
       "</table>\n",
       "</div>"
      ],
      "text/plain": [
       "Empty DataFrame\n",
       "Columns: [CustomerID, amount, frequency, recency]\n",
       "Index: []"
      ]
     },
     "execution_count": 237,
     "metadata": {},
     "output_type": "execute_result"
    }
   ],
   "source": [
    "customer_group[(customer_group['recency']>ur) & (customer_group['recency']<lr)]"
   ]
  },
  {
   "cell_type": "code",
   "execution_count": 252,
   "id": "09b7111b",
   "metadata": {},
   "outputs": [],
   "source": [
    "customer_group1=customer_group"
   ]
  },
  {
   "cell_type": "markdown",
   "id": "931b5438",
   "metadata": {},
   "source": [
    "#### Outlier Treatment for Amount"
   ]
  },
  {
   "cell_type": "code",
   "execution_count": 253,
   "id": "cabfe001",
   "metadata": {},
   "outputs": [],
   "source": [
    "Q1 = customer_group.amount.quantile(0.05)\n",
    "Q3 = customer_group.amount.quantile(0.95)\n",
    "IQR = Q3 - Q1\n",
    "lr=Q1-(1.5*IQR)\n",
    "ur=Q3+(1.5*IQR)\n",
    "customer_group1=customer_group1[(customer_group['amount']<ur) & (customer_group1['amount']>lr)]"
   ]
  },
  {
   "cell_type": "code",
   "execution_count": 254,
   "id": "dddf7c07",
   "metadata": {},
   "outputs": [
    {
     "data": {
      "text/plain": [
       "(4313, 4)"
      ]
     },
     "execution_count": 254,
     "metadata": {},
     "output_type": "execute_result"
    }
   ],
   "source": [
    "customer_group1.shape"
   ]
  },
  {
   "cell_type": "markdown",
   "id": "54e8e70b",
   "metadata": {},
   "source": [
    "#### Outlier Treatment for Frequency"
   ]
  },
  {
   "cell_type": "code",
   "execution_count": 255,
   "id": "472cba10",
   "metadata": {},
   "outputs": [
    {
     "name": "stderr",
     "output_type": "stream",
     "text": [
      "C:\\Users\\bharat.sakarwal\\AppData\\Local\\Temp\\ipykernel_39112\\3035614585.py:6: UserWarning: Boolean Series key will be reindexed to match DataFrame index.\n",
      "  customer_group1=customer_group1[(customer_group['frequency']<ur) & (customer_group1['frequency']>lr)]\n"
     ]
    }
   ],
   "source": [
    "Q1 = customer_group.frequency.quantile(0.05)\n",
    "Q3 = customer_group.frequency.quantile(0.95)\n",
    "IQR = Q3 - Q1\n",
    "lr=Q1-(1.5*IQR)\n",
    "ur=Q3+(1.5*IQR)\n",
    "customer_group1=customer_group1[(customer_group['frequency']<ur) & (customer_group1['frequency']>lr)]"
   ]
  },
  {
   "cell_type": "code",
   "execution_count": 256,
   "id": "c89885ef",
   "metadata": {},
   "outputs": [
    {
     "data": {
      "text/plain": [
       "(4296, 4)"
      ]
     },
     "execution_count": 256,
     "metadata": {},
     "output_type": "execute_result"
    }
   ],
   "source": [
    "customer_group1.shape"
   ]
  },
  {
   "cell_type": "markdown",
   "id": "381463fa",
   "metadata": {},
   "source": [
    "#### Outlier Treatment for Recency"
   ]
  },
  {
   "cell_type": "code",
   "execution_count": 257,
   "id": "b8503124",
   "metadata": {},
   "outputs": [
    {
     "name": "stderr",
     "output_type": "stream",
     "text": [
      "C:\\Users\\bharat.sakarwal\\AppData\\Local\\Temp\\ipykernel_39112\\903054170.py:6: UserWarning: Boolean Series key will be reindexed to match DataFrame index.\n",
      "  customer_group1=customer_group1[(customer_group['recency']<ur) & (customer_group1['recency']>lr)]\n"
     ]
    }
   ],
   "source": [
    "Q1 = customer_group.recency.quantile(0.05)\n",
    "Q3 = customer_group.recency.quantile(0.95)\n",
    "IQR = Q3 - Q1\n",
    "lr=Q1-(1.5*IQR)\n",
    "ur=Q3+(1.5*IQR)\n",
    "customer_group1=customer_group1[(customer_group['recency']<ur) & (customer_group1['recency']>lr)]"
   ]
  },
  {
   "cell_type": "code",
   "execution_count": 258,
   "id": "85018b3e",
   "metadata": {},
   "outputs": [
    {
     "data": {
      "text/plain": [
       "(4296, 4)"
      ]
     },
     "execution_count": 258,
     "metadata": {},
     "output_type": "execute_result"
    }
   ],
   "source": [
    "customer_group1.shape"
   ]
  },
  {
   "cell_type": "code",
   "execution_count": null,
   "id": "7e1315db",
   "metadata": {},
   "outputs": [],
   "source": []
  },
  {
   "cell_type": "code",
   "execution_count": 296,
   "id": "981e4ff8",
   "metadata": {},
   "outputs": [],
   "source": [
    "from sklearn.preprocessing import StandardScaler\n",
    "from sklearn.cluster import KMeans\n",
    "from sklearn.metrics import silhouette_score\n",
    "\n",
    "from scipy.cluster.hierarchy import linkage\n",
    "from scipy.cluster.hierarchy import dendrogram\n",
    "from scipy.cluster.hierarchy import cut_tree"
   ]
  },
  {
   "cell_type": "code",
   "execution_count": 280,
   "id": "91c53b18",
   "metadata": {},
   "outputs": [
    {
     "data": {
      "text/plain": [
       "Index(['amount', 'frequency', 'recency'], dtype='object')"
      ]
     },
     "execution_count": 280,
     "metadata": {},
     "output_type": "execute_result"
    }
   ],
   "source": [
    "rfm_df=customer_group1[['amount','frequency','recency']]\n",
    "rfm_df.columns"
   ]
  },
  {
   "cell_type": "code",
   "execution_count": 281,
   "id": "697cc7b1",
   "metadata": {},
   "outputs": [],
   "source": [
    "scaler=StandardScaler()"
   ]
  },
  {
   "cell_type": "code",
   "execution_count": 284,
   "id": "f095720a",
   "metadata": {},
   "outputs": [],
   "source": [
    "rfm_df_scaled=scaler.fit_transform(rfm_df)"
   ]
  },
  {
   "cell_type": "code",
   "execution_count": 287,
   "id": "43fbcf1e",
   "metadata": {},
   "outputs": [],
   "source": [
    "rfm_df_scaled=pd.DataFrame(rfm_df_scaled,columns=['amount', 'frequency', 'recency'])"
   ]
  },
  {
   "cell_type": "code",
   "execution_count": 286,
   "id": "3d7f553c",
   "metadata": {},
   "outputs": [
    {
     "data": {
      "text/plain": [
       "(4296, 3)"
      ]
     },
     "execution_count": 286,
     "metadata": {},
     "output_type": "execute_result"
    }
   ],
   "source": [
    "rfm_df_scaled.shape"
   ]
  },
  {
   "cell_type": "code",
   "execution_count": 288,
   "id": "0f2d3fa1",
   "metadata": {},
   "outputs": [
    {
     "data": {
      "text/html": [
       "<div>\n",
       "<style scoped>\n",
       "    .dataframe tbody tr th:only-of-type {\n",
       "        vertical-align: middle;\n",
       "    }\n",
       "\n",
       "    .dataframe tbody tr th {\n",
       "        vertical-align: top;\n",
       "    }\n",
       "\n",
       "    .dataframe thead th {\n",
       "        text-align: right;\n",
       "    }\n",
       "</style>\n",
       "<table border=\"1\" class=\"dataframe\">\n",
       "  <thead>\n",
       "    <tr style=\"text-align: right;\">\n",
       "      <th></th>\n",
       "      <th>amount</th>\n",
       "      <th>frequency</th>\n",
       "      <th>recency</th>\n",
       "    </tr>\n",
       "  </thead>\n",
       "  <tbody>\n",
       "    <tr>\n",
       "      <th>0</th>\n",
       "      <td>-0.724074</td>\n",
       "      <td>-0.746158</td>\n",
       "      <td>1.955456</td>\n",
       "    </tr>\n",
       "    <tr>\n",
       "      <th>1</th>\n",
       "      <td>1.727712</td>\n",
       "      <td>1.022120</td>\n",
       "      <td>-0.546491</td>\n",
       "    </tr>\n",
       "    <tr>\n",
       "      <th>2</th>\n",
       "      <td>0.298304</td>\n",
       "      <td>-0.461269</td>\n",
       "      <td>-0.231561</td>\n",
       "    </tr>\n",
       "    <tr>\n",
       "      <th>3</th>\n",
       "      <td>0.275726</td>\n",
       "      <td>-0.048671</td>\n",
       "      <td>-0.730201</td>\n",
       "    </tr>\n",
       "    <tr>\n",
       "      <th>4</th>\n",
       "      <td>-0.533847</td>\n",
       "      <td>-0.598801</td>\n",
       "      <td>1.824235</td>\n",
       "    </tr>\n",
       "    <tr>\n",
       "      <th>...</th>\n",
       "      <td>...</td>\n",
       "      <td>...</td>\n",
       "      <td>...</td>\n",
       "    </tr>\n",
       "    <tr>\n",
       "      <th>4291</th>\n",
       "      <td>-0.621338</td>\n",
       "      <td>-0.667568</td>\n",
       "      <td>0.503277</td>\n",
       "    </tr>\n",
       "    <tr>\n",
       "      <th>4292</th>\n",
       "      <td>-0.678099</td>\n",
       "      <td>-0.697039</td>\n",
       "      <td>-0.861422</td>\n",
       "    </tr>\n",
       "    <tr>\n",
       "      <th>4293</th>\n",
       "      <td>-0.623613</td>\n",
       "      <td>-0.638096</td>\n",
       "      <td>-0.082844</td>\n",
       "    </tr>\n",
       "    <tr>\n",
       "      <th>4294</th>\n",
       "      <td>0.467619</td>\n",
       "      <td>6.660959</td>\n",
       "      <td>-0.808933</td>\n",
       "    </tr>\n",
       "    <tr>\n",
       "      <th>4295</th>\n",
       "      <td>0.321081</td>\n",
       "      <td>-0.078142</td>\n",
       "      <td>-0.896414</td>\n",
       "    </tr>\n",
       "  </tbody>\n",
       "</table>\n",
       "<p>4296 rows × 3 columns</p>\n",
       "</div>"
      ],
      "text/plain": [
       "        amount  frequency   recency\n",
       "0    -0.724074  -0.746158  1.955456\n",
       "1     1.727712   1.022120 -0.546491\n",
       "2     0.298304  -0.461269 -0.231561\n",
       "3     0.275726  -0.048671 -0.730201\n",
       "4    -0.533847  -0.598801  1.824235\n",
       "...        ...        ...       ...\n",
       "4291 -0.621338  -0.667568  0.503277\n",
       "4292 -0.678099  -0.697039 -0.861422\n",
       "4293 -0.623613  -0.638096 -0.082844\n",
       "4294  0.467619   6.660959 -0.808933\n",
       "4295  0.321081  -0.078142 -0.896414\n",
       "\n",
       "[4296 rows x 3 columns]"
      ]
     },
     "execution_count": 288,
     "metadata": {},
     "output_type": "execute_result"
    }
   ],
   "source": [
    "rfm_df_scaled"
   ]
  },
  {
   "cell_type": "markdown",
   "id": "c2764a3e",
   "metadata": {},
   "source": [
    "# Check Hopkins Score"
   ]
  },
  {
   "cell_type": "code",
   "execution_count": 289,
   "id": "4dee55f0",
   "metadata": {},
   "outputs": [],
   "source": [
    "from sklearn.neighbors import NearestNeighbors\n",
    "from random import sample\n",
    "from numpy.random import uniform\n",
    "import numpy as np\n",
    "from math import isnan\n",
    " \n",
    "def hopkins(X):\n",
    "    d = X.shape[1]\n",
    "    #d = len(vars) # columns\n",
    "    n = len(X) # rows\n",
    "    m = int(0.1 * n) \n",
    "    nbrs = NearestNeighbors(n_neighbors=1).fit(X.values)\n",
    " \n",
    "    rand_X = sample(range(0, n, 1), m)\n",
    " \n",
    "    ujd = []\n",
    "    wjd = []\n",
    "    for j in range(0, m):\n",
    "        u_dist, _ = nbrs.kneighbors(uniform(np.amin(X,axis=0),np.amax(X,axis=0),d).reshape(1, -1), 2, return_distance=True)\n",
    "        ujd.append(u_dist[0][1])\n",
    "        w_dist, _ = nbrs.kneighbors(X.iloc[rand_X[j]].values.reshape(1, -1), 2, return_distance=True)\n",
    "        wjd.append(w_dist[0][1])\n",
    " \n",
    "    H = sum(ujd) / (sum(ujd) + sum(wjd))\n",
    "    if isnan(H):\n",
    "        print(ujd, wjd)\n",
    "        H = 0\n",
    " \n",
    "    return H"
   ]
  },
  {
   "cell_type": "code",
   "execution_count": 295,
   "id": "139b1da0",
   "metadata": {},
   "outputs": [
    {
     "data": {
      "text/plain": [
       "0.9724020284973958"
      ]
     },
     "execution_count": 295,
     "metadata": {},
     "output_type": "execute_result"
    }
   ],
   "source": [
    "hopkins(rfm_df_scaled)"
   ]
  },
  {
   "cell_type": "markdown",
   "id": "030899be",
   "metadata": {},
   "source": [
    "## Modeling"
   ]
  },
  {
   "cell_type": "code",
   "execution_count": 297,
   "id": "ed2ee6d7",
   "metadata": {},
   "outputs": [],
   "source": [
    "KMeans?"
   ]
  },
  {
   "cell_type": "code",
   "execution_count": 300,
   "id": "a0178658",
   "metadata": {},
   "outputs": [],
   "source": [
    "kmeans=KMeans(n_clusters=4,max_iter=50)"
   ]
  },
  {
   "cell_type": "code",
   "execution_count": 307,
   "id": "6fa370fe",
   "metadata": {},
   "outputs": [
    {
     "name": "stderr",
     "output_type": "stream",
     "text": [
      "C:\\Users\\bharat.sakarwal\\AppData\\Local\\anaconda3\\lib\\site-packages\\sklearn\\cluster\\_kmeans.py:870: FutureWarning: The default value of `n_init` will change from 10 to 'auto' in 1.4. Set the value of `n_init` explicitly to suppress the warning\n",
      "  warnings.warn(\n"
     ]
    },
    {
     "data": {
      "text/html": [
       "<style>#sk-container-id-2 {color: black;background-color: white;}#sk-container-id-2 pre{padding: 0;}#sk-container-id-2 div.sk-toggleable {background-color: white;}#sk-container-id-2 label.sk-toggleable__label {cursor: pointer;display: block;width: 100%;margin-bottom: 0;padding: 0.3em;box-sizing: border-box;text-align: center;}#sk-container-id-2 label.sk-toggleable__label-arrow:before {content: \"▸\";float: left;margin-right: 0.25em;color: #696969;}#sk-container-id-2 label.sk-toggleable__label-arrow:hover:before {color: black;}#sk-container-id-2 div.sk-estimator:hover label.sk-toggleable__label-arrow:before {color: black;}#sk-container-id-2 div.sk-toggleable__content {max-height: 0;max-width: 0;overflow: hidden;text-align: left;background-color: #f0f8ff;}#sk-container-id-2 div.sk-toggleable__content pre {margin: 0.2em;color: black;border-radius: 0.25em;background-color: #f0f8ff;}#sk-container-id-2 input.sk-toggleable__control:checked~div.sk-toggleable__content {max-height: 200px;max-width: 100%;overflow: auto;}#sk-container-id-2 input.sk-toggleable__control:checked~label.sk-toggleable__label-arrow:before {content: \"▾\";}#sk-container-id-2 div.sk-estimator input.sk-toggleable__control:checked~label.sk-toggleable__label {background-color: #d4ebff;}#sk-container-id-2 div.sk-label input.sk-toggleable__control:checked~label.sk-toggleable__label {background-color: #d4ebff;}#sk-container-id-2 input.sk-hidden--visually {border: 0;clip: rect(1px 1px 1px 1px);clip: rect(1px, 1px, 1px, 1px);height: 1px;margin: -1px;overflow: hidden;padding: 0;position: absolute;width: 1px;}#sk-container-id-2 div.sk-estimator {font-family: monospace;background-color: #f0f8ff;border: 1px dotted black;border-radius: 0.25em;box-sizing: border-box;margin-bottom: 0.5em;}#sk-container-id-2 div.sk-estimator:hover {background-color: #d4ebff;}#sk-container-id-2 div.sk-parallel-item::after {content: \"\";width: 100%;border-bottom: 1px solid gray;flex-grow: 1;}#sk-container-id-2 div.sk-label:hover label.sk-toggleable__label {background-color: #d4ebff;}#sk-container-id-2 div.sk-serial::before {content: \"\";position: absolute;border-left: 1px solid gray;box-sizing: border-box;top: 0;bottom: 0;left: 50%;z-index: 0;}#sk-container-id-2 div.sk-serial {display: flex;flex-direction: column;align-items: center;background-color: white;padding-right: 0.2em;padding-left: 0.2em;position: relative;}#sk-container-id-2 div.sk-item {position: relative;z-index: 1;}#sk-container-id-2 div.sk-parallel {display: flex;align-items: stretch;justify-content: center;background-color: white;position: relative;}#sk-container-id-2 div.sk-item::before, #sk-container-id-2 div.sk-parallel-item::before {content: \"\";position: absolute;border-left: 1px solid gray;box-sizing: border-box;top: 0;bottom: 0;left: 50%;z-index: -1;}#sk-container-id-2 div.sk-parallel-item {display: flex;flex-direction: column;z-index: 1;position: relative;background-color: white;}#sk-container-id-2 div.sk-parallel-item:first-child::after {align-self: flex-end;width: 50%;}#sk-container-id-2 div.sk-parallel-item:last-child::after {align-self: flex-start;width: 50%;}#sk-container-id-2 div.sk-parallel-item:only-child::after {width: 0;}#sk-container-id-2 div.sk-dashed-wrapped {border: 1px dashed gray;margin: 0 0.4em 0.5em 0.4em;box-sizing: border-box;padding-bottom: 0.4em;background-color: white;}#sk-container-id-2 div.sk-label label {font-family: monospace;font-weight: bold;display: inline-block;line-height: 1.2em;}#sk-container-id-2 div.sk-label-container {text-align: center;}#sk-container-id-2 div.sk-container {/* jupyter's `normalize.less` sets `[hidden] { display: none; }` but bootstrap.min.css set `[hidden] { display: none !important; }` so we also need the `!important` here to be able to override the default hidden behavior on the sphinx rendered scikit-learn.org. See: https://github.com/scikit-learn/scikit-learn/issues/21755 */display: inline-block !important;position: relative;}#sk-container-id-2 div.sk-text-repr-fallback {display: none;}</style><div id=\"sk-container-id-2\" class=\"sk-top-container\"><div class=\"sk-text-repr-fallback\"><pre>KMeans(max_iter=50, n_clusters=4)</pre><b>In a Jupyter environment, please rerun this cell to show the HTML representation or trust the notebook. <br />On GitHub, the HTML representation is unable to render, please try loading this page with nbviewer.org.</b></div><div class=\"sk-container\" hidden><div class=\"sk-item\"><div class=\"sk-estimator sk-toggleable\"><input class=\"sk-toggleable__control sk-hidden--visually\" id=\"sk-estimator-id-2\" type=\"checkbox\" checked><label for=\"sk-estimator-id-2\" class=\"sk-toggleable__label sk-toggleable__label-arrow\">KMeans</label><div class=\"sk-toggleable__content\"><pre>KMeans(max_iter=50, n_clusters=4)</pre></div></div></div></div></div>"
      ],
      "text/plain": [
       "KMeans(max_iter=50, n_clusters=4)"
      ]
     },
     "execution_count": 307,
     "metadata": {},
     "output_type": "execute_result"
    }
   ],
   "source": [
    "kmeans.fit(rfm_df_scaled)"
   ]
  },
  {
   "cell_type": "code",
   "execution_count": 306,
   "id": "b57243d2",
   "metadata": {},
   "outputs": [
    {
     "data": {
      "text/plain": [
       "4296"
      ]
     },
     "execution_count": 306,
     "metadata": {},
     "output_type": "execute_result"
    }
   ],
   "source": [
    "len(kmeans.labels_)  #predicted values"
   ]
  },
  {
   "cell_type": "code",
   "execution_count": 320,
   "id": "efc4f34f",
   "metadata": {},
   "outputs": [],
   "source": [
    "KMeans?"
   ]
  },
  {
   "cell_type": "markdown",
   "id": "df1897d5",
   "metadata": {},
   "source": [
    "### Plot Elbow curve/ SSD(sum of square distance from their respective centroids-inertia)"
   ]
  },
  {
   "cell_type": "code",
   "execution_count": 337,
   "id": "3c6e8265",
   "metadata": {},
   "outputs": [],
   "source": [
    "ssd=[]\n",
    "n_clusters=[2,3,4,5,6,7,8]"
   ]
  },
  {
   "cell_type": "code",
   "execution_count": 336,
   "id": "0c366d43",
   "metadata": {},
   "outputs": [],
   "source": [
    "del ssd"
   ]
  },
  {
   "cell_type": "code",
   "execution_count": 338,
   "id": "c61b725c",
   "metadata": {},
   "outputs": [
    {
     "data": {
      "text/plain": [
       "[<matplotlib.lines.Line2D at 0x176d47141f0>]"
      ]
     },
     "execution_count": 338,
     "metadata": {},
     "output_type": "execute_result"
    },
    {
     "data": {
      "image/png": "[encoded data removed]",
      "text/plain": [
       "<Figure size 640x480 with 1 Axes>"
      ]
     },
     "metadata": {},
     "output_type": "display_data"
    }
   ],
   "source": [
    "for num_clusters in n_clusters:\n",
    "    kmeans=KMeans(init='k-means++',n_init='auto',n_clusters=num_clusters,max_iter=50)\n",
    "    #kmeans=KMeans(n_clusters=num_clusters,max_iter=50)\n",
    "    kmeans.fit(rfm_df_scaled)\n",
    "    ssd.append(kmeans.inertia_)\n",
    "\n",
    "plt.plot(range(2,9),ssd)"
   ]
  },
  {
   "cell_type": "markdown",
   "id": "82c7773a",
   "metadata": {},
   "source": [
    "### Silhouettte Score"
   ]
  },
  {
   "cell_type": "code",
   "execution_count": null,
   "id": "4ef35784",
   "metadata": {},
   "outputs": [],
   "source": [
    "n_clusters=[2,3,4,5,6,7,8]"
   ]
  },
  {
   "cell_type": "code",
   "execution_count": 339,
   "id": "3c133d71",
   "metadata": {},
   "outputs": [],
   "source": [
    "silhouette_score?"
   ]
  },
  {
   "cell_type": "code",
   "execution_count": 351,
   "id": "83f17394",
   "metadata": {},
   "outputs": [
    {
     "name": "stdout",
     "output_type": "stream",
     "text": [
      "Silhouette Score of 2 clusters is :0.5522698109391468\n",
      "Silhouette Score of 3 clusters is :0.4709929152541021\n",
      "Silhouette Score of 4 clusters is :0.44660269421087945\n",
      "Silhouette Score of 5 clusters is :0.43185902983176366\n",
      "Silhouette Score of 6 clusters is :0.45154047543144626\n",
      "Silhouette Score of 7 clusters is :0.3307388566681738\n",
      "Silhouette Score of 8 clusters is :0.39534907926466534\n"
     ]
    }
   ],
   "source": [
    "for num_clusters in n_clusters:\n",
    "    kmeans=KMeans(init='k-means++',n_init='auto',n_clusters=num_clusters,max_iter=50)\n",
    "    kmeans.fit(rfm_df_scaled)\n",
    "    cluster_labels=kmeans.labels_\n",
    "    \n",
    "    avg_silhouette=silhouette_score(rfm_df_scaled,cluster_labels)\n",
    "    print(\"Silhouette Score of {} clusters is :{}\".format(num_clusters,avg_silhouette))"
   ]
  },
  {
   "cell_type": "code",
   "execution_count": 353,
   "id": "afce9460",
   "metadata": {},
   "outputs": [
    {
     "data": {
      "text/html": [
       "<div>\n",
       "<style scoped>\n",
       "    .dataframe tbody tr th:only-of-type {\n",
       "        vertical-align: middle;\n",
       "    }\n",
       "\n",
       "    .dataframe tbody tr th {\n",
       "        vertical-align: top;\n",
       "    }\n",
       "\n",
       "    .dataframe thead th {\n",
       "        text-align: right;\n",
       "    }\n",
       "</style>\n",
       "<table border=\"1\" class=\"dataframe\">\n",
       "  <thead>\n",
       "    <tr style=\"text-align: right;\">\n",
       "      <th></th>\n",
       "      <th>CustomerID</th>\n",
       "      <th>amount</th>\n",
       "      <th>frequency</th>\n",
       "      <th>recency</th>\n",
       "    </tr>\n",
       "  </thead>\n",
       "  <tbody>\n",
       "    <tr>\n",
       "      <th>0</th>\n",
       "      <td>12346.0</td>\n",
       "      <td>0.0</td>\n",
       "      <td>2</td>\n",
       "      <td>326</td>\n",
       "    </tr>\n",
       "    <tr>\n",
       "      <th>1</th>\n",
       "      <td>12347.0</td>\n",
       "      <td>4310.0</td>\n",
       "      <td>182</td>\n",
       "      <td>40</td>\n",
       "    </tr>\n",
       "  </tbody>\n",
       "</table>\n",
       "</div>"
      ],
      "text/plain": [
       "   CustomerID  amount  frequency  recency\n",
       "0     12346.0     0.0          2      326\n",
       "1     12347.0  4310.0        182       40"
      ]
     },
     "execution_count": 353,
     "metadata": {},
     "output_type": "execute_result"
    }
   ],
   "source": [
    "customer_group.head(2)"
   ]
  },
  {
   "cell_type": "code",
   "execution_count": null,
   "id": "878ab7d2",
   "metadata": {},
   "outputs": [],
   "source": [
    "#### Proceeding ahead with optimal no. of cluster"
   ]
  },
  {
   "cell_type": "code",
   "execution_count": 354,
   "id": "06acd984",
   "metadata": {},
   "outputs": [],
   "source": [
    "kmeans=KMeans(init='k-means++',n_init='auto',n_clusters=3,max_iter=50)\n",
    "kmeans.fit(rfm_df_scaled)\n",
    "cluster_labels=kmeans.labels_"
   ]
  },
  {
   "cell_type": "code",
   "execution_count": 357,
   "id": "0094610d",
   "metadata": {},
   "outputs": [],
   "source": [
    "customer_group1['Clusters']=cluster_labels"
   ]
  },
  {
   "cell_type": "code",
   "execution_count": 358,
   "id": "08a8454a",
   "metadata": {},
   "outputs": [
    {
     "data": {
      "text/html": [
       "<div>\n",
       "<style scoped>\n",
       "    .dataframe tbody tr th:only-of-type {\n",
       "        vertical-align: middle;\n",
       "    }\n",
       "\n",
       "    .dataframe tbody tr th {\n",
       "        vertical-align: top;\n",
       "    }\n",
       "\n",
       "    .dataframe thead th {\n",
       "        text-align: right;\n",
       "    }\n",
       "</style>\n",
       "<table border=\"1\" class=\"dataframe\">\n",
       "  <thead>\n",
       "    <tr style=\"text-align: right;\">\n",
       "      <th></th>\n",
       "      <th>CustomerID</th>\n",
       "      <th>amount</th>\n",
       "      <th>frequency</th>\n",
       "      <th>recency</th>\n",
       "      <th>Clusters</th>\n",
       "    </tr>\n",
       "  </thead>\n",
       "  <tbody>\n",
       "    <tr>\n",
       "      <th>0</th>\n",
       "      <td>12346.0</td>\n",
       "      <td>0.00</td>\n",
       "      <td>2</td>\n",
       "      <td>326</td>\n",
       "      <td>2</td>\n",
       "    </tr>\n",
       "    <tr>\n",
       "      <th>1</th>\n",
       "      <td>12347.0</td>\n",
       "      <td>4310.00</td>\n",
       "      <td>182</td>\n",
       "      <td>40</td>\n",
       "      <td>0</td>\n",
       "    </tr>\n",
       "    <tr>\n",
       "      <th>2</th>\n",
       "      <td>12348.0</td>\n",
       "      <td>1797.24</td>\n",
       "      <td>31</td>\n",
       "      <td>76</td>\n",
       "      <td>1</td>\n",
       "    </tr>\n",
       "    <tr>\n",
       "      <th>3</th>\n",
       "      <td>12349.0</td>\n",
       "      <td>1757.55</td>\n",
       "      <td>73</td>\n",
       "      <td>19</td>\n",
       "      <td>1</td>\n",
       "    </tr>\n",
       "    <tr>\n",
       "      <th>4</th>\n",
       "      <td>12350.0</td>\n",
       "      <td>334.40</td>\n",
       "      <td>17</td>\n",
       "      <td>311</td>\n",
       "      <td>2</td>\n",
       "    </tr>\n",
       "  </tbody>\n",
       "</table>\n",
       "</div>"
      ],
      "text/plain": [
       "   CustomerID   amount  frequency  recency  Clusters\n",
       "0     12346.0     0.00          2      326         2\n",
       "1     12347.0  4310.00        182       40         0\n",
       "2     12348.0  1797.24         31       76         1\n",
       "3     12349.0  1757.55         73       19         1\n",
       "4     12350.0   334.40         17      311         2"
      ]
     },
     "execution_count": 358,
     "metadata": {},
     "output_type": "execute_result"
    }
   ],
   "source": [
    "customer_group1.head()"
   ]
  },
  {
   "cell_type": "code",
   "execution_count": 361,
   "id": "da7f567e",
   "metadata": {},
   "outputs": [
    {
     "data": {
      "text/plain": [
       "<Axes: xlabel='Clusters', ylabel='frequency'>"
      ]
     },
     "execution_count": 361,
     "metadata": {},
     "output_type": "execute_result"
    },
    {
     "data": {
      "image/png": "[encoded data removed]",
      "text/plain": [
       "<Figure size 640x480 with 1 Axes>"
      ]
     },
     "metadata": {},
     "output_type": "display_data"
    }
   ],
   "source": [
    "sns.boxplot(x='Clusters',y='frequency',data=customer_group1)  #cluster representations"
   ]
  },
  {
   "cell_type": "code",
   "execution_count": 362,
   "id": "8c74aeb4",
   "metadata": {},
   "outputs": [
    {
     "data": {
      "text/plain": [
       "<Axes: xlabel='Clusters', ylabel='recency'>"
      ]
     },
     "execution_count": 362,
     "metadata": {},
     "output_type": "execute_result"
    },
    {
     "data": {
      "image/png": "[encoded data removed]",
      "text/plain": [
       "<Figure size 640x480 with 1 Axes>"
      ]
     },
     "metadata": {},
     "output_type": "display_data"
    }
   ],
   "source": [
    "sns.boxplot(x='Clusters',y='recency',data=customer_group1)"
   ]
  },
  {
   "cell_type": "code",
   "execution_count": 363,
   "id": "8c9e4785",
   "metadata": {},
   "outputs": [
    {
     "data": {
      "text/plain": [
       "<Axes: xlabel='Clusters', ylabel='amount'>"
      ]
     },
     "execution_count": 363,
     "metadata": {},
     "output_type": "execute_result"
    },
    {
     "data": {
      "image/png": "[encoded data removed]",
      "text/plain": [
       "<Figure size 640x480 with 1 Axes>"
      ]
     },
     "metadata": {},
     "output_type": "display_data"
    }
   ],
   "source": [
    "sns.boxplot(x='Clusters',y='amount',data=customer_group1)"
   ]
  },
  {
   "cell_type": "code",
   "execution_count": null,
   "id": "df7f5ed1",
   "metadata": {},
   "outputs": [],
   "source": []
  }
 ],
 "metadata": {
  "kernelspec": {
   "display_name": "Python 3 (ipykernel)",
   "language": "python",
   "name": "python3"
  },
  "language_info": {
   "codemirror_mode": {
    "name": "ipython",
    "version": 3
   },
   "file_extension": ".py",
   "mimetype": "text/x-python",
   "name": "python",
   "nbconvert_exporter": "python",
   "pygments_lexer": "ipython3",
   "version": "3.10.9"
  }
 },
 "nbformat": 4,
 "nbformat_minor": 5
}
